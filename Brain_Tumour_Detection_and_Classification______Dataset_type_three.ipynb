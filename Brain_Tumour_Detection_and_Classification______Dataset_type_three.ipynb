{
  "cells": [
    {
      "cell_type": "markdown",
      "metadata": {
        "papermill": {
          "duration": 0.017047,
          "end_time": "2021-01-13T19:04:02.236885",
          "exception": false,
          "start_time": "2021-01-13T19:04:02.219838",
          "status": "completed"
        },
        "tags": [],
        "id": "L4cE9JeHN0JZ"
      },
      "source": [
        "# Import Statements"
      ]
    },
    {
      "cell_type": "code",
      "execution_count": null,
      "metadata": {
        "_cell_guid": "79c7e3d0-c299-4dcb-8224-4455121ee9b0",
        "_uuid": "d629ff2d2480ee46fbb7e2d37f6b5fab8052498a",
        "execution": {
          "iopub.execute_input": "2021-01-13T19:04:02.274589Z",
          "iopub.status.busy": "2021-01-13T19:04:02.273851Z",
          "iopub.status.idle": "2021-01-13T19:04:10.359394Z",
          "shell.execute_reply": "2021-01-13T19:04:10.358181Z"
        },
        "papermill": {
          "duration": 8.107497,
          "end_time": "2021-01-13T19:04:10.359532",
          "exception": false,
          "start_time": "2021-01-13T19:04:02.252035",
          "status": "completed"
        },
        "tags": [],
        "id": "0gcRGt5rN0Je"
      },
      "outputs": [],
      "source": [
        "import numpy as np\n",
        "import pandas as pd\n",
        "import os\n",
        "import keras \n",
        "from keras.models import Sequential\n",
        "from keras.layers import Conv2D, MaxPooling2D, Flatten, Dense, Dropout, BatchNormalization\n",
        "from PIL import Image\n",
        "import matplotlib.pyplot as plt\n",
        "from sklearn.model_selection import train_test_split\n",
        "from sklearn.preprocessing import OneHotEncoder "
      ]
    },
    {
      "cell_type": "code",
      "source": [
        "from google.colab import drive\n",
        "drive.mount('/content/drive')"
      ],
      "metadata": {
        "colab": {
          "base_uri": "https://localhost:8080/"
        },
        "id": "irxs4QcQOJJs",
        "outputId": "75b736cc-002b-45bd-ea62-e73885ea5b0e"
      },
      "execution_count": null,
      "outputs": [
        {
          "output_type": "stream",
          "name": "stdout",
          "text": [
            "Mounted at /content/drive\n"
          ]
        }
      ]
    },
    {
      "cell_type": "code",
      "source": [
        "%cd /content/drive/My Drive/Colab Notebooks/"
      ],
      "metadata": {
        "colab": {
          "base_uri": "https://localhost:8080/"
        },
        "id": "33kROV72OKuK",
        "outputId": "37c7d20d-6aed-4937-a9ea-6bdf75877d03"
      },
      "execution_count": null,
      "outputs": [
        {
          "output_type": "stream",
          "name": "stdout",
          "text": [
            "/content/drive/My Drive/Colab Notebooks\n"
          ]
        }
      ]
    },
    {
      "cell_type": "markdown",
      "metadata": {
        "papermill": {
          "duration": 0.013964,
          "end_time": "2021-01-13T19:04:10.387998",
          "exception": false,
          "start_time": "2021-01-13T19:04:10.374034",
          "status": "completed"
        },
        "tags": [],
        "id": "KL5220G7N0Jg"
      },
      "source": [
        "# One Hot Encoding the Target Classes\n",
        "\n",
        "\n",
        "*   0 - Tumour\n",
        "*   1 - No Tumour\n",
        "\n"
      ]
    },
    {
      "cell_type": "code",
      "execution_count": null,
      "metadata": {
        "execution": {
          "iopub.execute_input": "2021-01-13T19:04:10.426343Z",
          "iopub.status.busy": "2021-01-13T19:04:10.425663Z",
          "iopub.status.idle": "2021-01-13T19:04:10.432273Z",
          "shell.execute_reply": "2021-01-13T19:04:10.431739Z"
        },
        "papermill": {
          "duration": 0.030157,
          "end_time": "2021-01-13T19:04:10.432405",
          "exception": false,
          "start_time": "2021-01-13T19:04:10.402248",
          "status": "completed"
        },
        "tags": [],
        "colab": {
          "base_uri": "https://localhost:8080/"
        },
        "id": "sT_y0EA2N0Jh",
        "outputId": "91afad46-64b5-41f1-937e-573e387df1de"
      },
      "outputs": [
        {
          "output_type": "execute_result",
          "data": {
            "text/plain": [
              "OneHotEncoder()"
            ]
          },
          "metadata": {},
          "execution_count": 91
        }
      ],
      "source": [
        "encoder = OneHotEncoder()\n",
        "encoder.fit([[0], [1]]) "
      ]
    },
    {
      "cell_type": "markdown",
      "source": [
        "# Encoded list for images with tumour"
      ],
      "metadata": {
        "id": "WxgLfVIKlSnz"
      }
    },
    {
      "cell_type": "code",
      "execution_count": null,
      "metadata": {
        "execution": {
          "iopub.execute_input": "2021-01-13T19:04:10.501611Z",
          "iopub.status.busy": "2021-01-13T19:04:10.500916Z",
          "iopub.status.idle": "2021-01-13T19:04:11.944664Z",
          "shell.execute_reply": "2021-01-13T19:04:11.942997Z"
        },
        "papermill": {
          "duration": 1.467737,
          "end_time": "2021-01-13T19:04:11.944810",
          "exception": false,
          "start_time": "2021-01-13T19:04:10.477073",
          "status": "completed"
        },
        "tags": [],
        "id": "s6iM_VpyN0Ji"
      },
      "outputs": [],
      "source": [
        "imageData = [] # Stores images as numpy arrays\n",
        "paths = [] # stores path of all the images\n",
        "encodedResult = [] # stores encoded format of target class (0 or 1) for all the images\n",
        "\n",
        "for r, _, f in os.walk(r'/content/drive/My Drive/Colab Notebooks/BTD/brain_tumor_dataset/Training/Type_3'):\n",
        "    for file in f:\n",
        "        if '.jpg' in file:\n",
        "            paths.append(os.path.join(r, file))\n",
        "\n",
        "for path in paths:\n",
        "    img = Image.open(path)\n",
        "    img = img.resize((128,128))\n",
        "    img = np.array(img)\n",
        "    if(img.shape == (128,128,3)):\n",
        "        imageData.append(np.array(img))\n",
        "        encodedResult.append(encoder.transform([[0]]).toarray())"
      ]
    },
    {
      "cell_type": "markdown",
      "source": [
        "# Encoded list for images without tumour"
      ],
      "metadata": {
        "id": "jTjhRtO1lY3z"
      }
    },
    {
      "cell_type": "code",
      "execution_count": null,
      "metadata": {
        "execution": {
          "iopub.execute_input": "2021-01-13T19:04:11.985224Z",
          "iopub.status.busy": "2021-01-13T19:04:11.984515Z",
          "iopub.status.idle": "2021-01-13T19:04:13.038027Z",
          "shell.execute_reply": "2021-01-13T19:04:13.037399Z"
        },
        "papermill": {
          "duration": 1.078081,
          "end_time": "2021-01-13T19:04:13.038146",
          "exception": false,
          "start_time": "2021-01-13T19:04:11.960065",
          "status": "completed"
        },
        "tags": [],
        "id": "0oZw5IGNN0Jj"
      },
      "outputs": [],
      "source": [
        "paths = []\n",
        "for r, _, f in os.walk(r\"/content/drive/My Drive/Colab Notebooks/BTD/brain_tumor_dataset/Training/no_tumor\"):\n",
        "    for file in f:\n",
        "        if '.jpg' in file:\n",
        "            paths.append(os.path.join(r, file))\n",
        "\n",
        "for path in paths:\n",
        "    img = Image.open(path)\n",
        "    img = img.resize((128,128))\n",
        "    img = np.array(img)\n",
        "    if(img.shape == (128,128,3)):\n",
        "        imageData.append(np.array(img))\n",
        "        encodedResult.append(encoder.transform([[1]]).toarray())"
      ]
    },
    {
      "cell_type": "markdown",
      "source": [
        "# Converting imageData to numpy array"
      ],
      "metadata": {
        "id": "dAndTbJoscb5"
      }
    },
    {
      "cell_type": "code",
      "execution_count": null,
      "metadata": {
        "execution": {
          "iopub.execute_input": "2021-01-13T19:04:13.073556Z",
          "iopub.status.busy": "2021-01-13T19:04:13.072843Z",
          "iopub.status.idle": "2021-01-13T19:04:13.086117Z",
          "shell.execute_reply": "2021-01-13T19:04:13.085426Z"
        },
        "papermill": {
          "duration": 0.031647,
          "end_time": "2021-01-13T19:04:13.086256",
          "exception": false,
          "start_time": "2021-01-13T19:04:13.054609",
          "status": "completed"
        },
        "tags": [],
        "colab": {
          "base_uri": "https://localhost:8080/"
        },
        "id": "7LGnouFdN0Jk",
        "outputId": "5f62f52a-0938-4fcd-9c58-b2f3a40e3ecf"
      },
      "outputs": [
        {
          "output_type": "execute_result",
          "data": {
            "text/plain": [
              "(2044, 128, 128, 3)"
            ]
          },
          "metadata": {},
          "execution_count": 94
        }
      ],
      "source": [
        "imageData = np.array(imageData)\n",
        "imageData.shape"
      ]
    },
    {
      "cell_type": "markdown",
      "source": [
        "# Converting encodedResult to numpy array and reshaping it"
      ],
      "metadata": {
        "id": "J-pCIfP7smzn"
      }
    },
    {
      "cell_type": "code",
      "execution_count": null,
      "metadata": {
        "execution": {
          "iopub.execute_input": "2021-01-13T19:04:13.123027Z",
          "iopub.status.busy": "2021-01-13T19:04:13.122015Z",
          "iopub.status.idle": "2021-01-13T19:04:13.126144Z",
          "shell.execute_reply": "2021-01-13T19:04:13.126733Z"
        },
        "papermill": {
          "duration": 0.025052,
          "end_time": "2021-01-13T19:04:13.126878",
          "exception": false,
          "start_time": "2021-01-13T19:04:13.101826",
          "status": "completed"
        },
        "tags": [],
        "id": "52zlXU8gN0Jl"
      },
      "outputs": [],
      "source": [
        "encodedResult = np.array(encodedResult)\n",
        "encodedResult = encodedResult.reshape(2044,2)"
      ]
    },
    {
      "cell_type": "markdown",
      "metadata": {
        "papermill": {
          "duration": 0.015536,
          "end_time": "2021-01-13T19:04:13.158356",
          "exception": false,
          "start_time": "2021-01-13T19:04:13.142820",
          "status": "completed"
        },
        "tags": [],
        "id": "Xf365XoAN0Jm"
      },
      "source": [
        "# Splitting the Data into 90% Training & 10% Testing data"
      ]
    },
    {
      "cell_type": "code",
      "execution_count": null,
      "metadata": {
        "execution": {
          "iopub.execute_input": "2021-01-13T19:04:13.196149Z",
          "iopub.status.busy": "2021-01-13T19:04:13.195442Z",
          "iopub.status.idle": "2021-01-13T19:04:13.200535Z",
          "shell.execute_reply": "2021-01-13T19:04:13.201076Z"
        },
        "papermill": {
          "duration": 0.027054,
          "end_time": "2021-01-13T19:04:13.201267",
          "exception": false,
          "start_time": "2021-01-13T19:04:13.174213",
          "status": "completed"
        },
        "tags": [],
        "id": "Xnua0XHYN0Jn",
        "colab": {
          "base_uri": "https://localhost:8080/"
        },
        "outputId": "4e7d2388-6f75-45cf-c06b-1a7d4711f0a5"
      },
      "outputs": [
        {
          "output_type": "stream",
          "name": "stdout",
          "text": [
            "(1839, 128, 128, 3)\n",
            "(1839, 2)\n",
            "(205, 128, 128, 3)\n",
            "(205, 2)\n"
          ]
        }
      ],
      "source": [
        "x_train, x_test, y_train, y_test = train_test_split(imageData, encodedResult, test_size=0.1, shuffle=True, random_state=0)\n",
        "\n",
        "print(x_train.shape)\n",
        "print(y_train.shape)\n",
        "print(x_test.shape)\n",
        "print(y_test.shape)"
      ]
    },
    {
      "cell_type": "markdown",
      "metadata": {
        "papermill": {
          "duration": 0.015584,
          "end_time": "2021-01-13T19:04:13.232970",
          "exception": false,
          "start_time": "2021-01-13T19:04:13.217386",
          "status": "completed"
        },
        "tags": [],
        "id": "1mhnGI1kN0Jn"
      },
      "source": [
        "# The CNN Model"
      ]
    },
    {
      "cell_type": "code",
      "source": [
        "# test size = 0.1\n",
        "model = Sequential()\n",
        "\n",
        "model.add(Conv2D(32, kernel_size=(2, 2), input_shape=(128, 128, 3), padding = 'Same'))\n",
        "model.add(Conv2D(64, kernel_size=(2, 2), activation ='relu', padding = 'Same'))\n",
        "model.add(BatchNormalization())\n",
        "model.add(MaxPooling2D(pool_size=(2, 2)))\n",
        "model.add(Dropout(0.25))\n",
        "\n",
        "# model.add(Conv2D(64, kernel_size=(2, 2), activation ='relu', padding = 'Same'))\n",
        "# model.add(Conv2D(64, kernel_size=(2, 2), activation ='relu', padding = 'Same'))\n",
        "# model.add(BatchNormalization())\n",
        "# model.add(MaxPooling2D(pool_size=(2, 2)))\n",
        "# model.add(Dropout(0.25))\n",
        "\n",
        "# model.add(Conv2D(64, kernel_size = (2,2), activation ='relu', padding = 'Same'))\n",
        "# model.add(Conv2D(64, kernel_size = (2,2), activation ='relu', padding = 'Same'))\n",
        "# model.add(BatchNormalization())\n",
        "# model.add(MaxPooling2D(pool_size=(2,2), strides=(2,2)))\n",
        "# model.add(Dropout(0.25))\n",
        "\n",
        "model.add(Flatten())\n",
        "model.add(Dropout(0.5))\n",
        "\n",
        "model.add(Dense(512, activation='ReLU'))\n",
        "# model.add(Dropout(0.5))\n",
        "model.add(Dense(2, activation='softmax'))\n",
        "\n",
        "model.compile(loss = \"categorical_crossentropy\", optimizer='Adam', metrics=['acc'])\n",
        "print(model.summary())"
      ],
      "metadata": {
        "colab": {
          "base_uri": "https://localhost:8080/"
        },
        "id": "6YrFWI1nfau5",
        "outputId": "100d74c4-8ffb-407c-e54b-0ef7367d843e"
      },
      "execution_count": null,
      "outputs": [
        {
          "output_type": "stream",
          "name": "stdout",
          "text": [
            "Model: \"sequential_6\"\n",
            "_________________________________________________________________\n",
            " Layer (type)                Output Shape              Param #   \n",
            "=================================================================\n",
            " conv2d_24 (Conv2D)          (None, 128, 128, 32)      416       \n",
            "                                                                 \n",
            " conv2d_25 (Conv2D)          (None, 128, 128, 64)      8256      \n",
            "                                                                 \n",
            " batch_normalization_12 (Bat  (None, 128, 128, 64)     256       \n",
            " chNormalization)                                                \n",
            "                                                                 \n",
            " max_pooling2d_12 (MaxPoolin  (None, 64, 64, 64)       0         \n",
            " g2D)                                                            \n",
            "                                                                 \n",
            " dropout_18 (Dropout)        (None, 64, 64, 64)        0         \n",
            "                                                                 \n",
            " flatten_6 (Flatten)         (None, 262144)            0         \n",
            "                                                                 \n",
            " dropout_19 (Dropout)        (None, 262144)            0         \n",
            "                                                                 \n",
            " dense_12 (Dense)            (None, 512)               134218240 \n",
            "                                                                 \n",
            " dense_13 (Dense)            (None, 2)                 1026      \n",
            "                                                                 \n",
            "=================================================================\n",
            "Total params: 134,228,194\n",
            "Trainable params: 134,228,066\n",
            "Non-trainable params: 128\n",
            "_________________________________________________________________\n",
            "None\n"
          ]
        }
      ]
    },
    {
      "cell_type": "code",
      "execution_count": null,
      "metadata": {
        "execution": {
          "iopub.execute_input": "2021-01-13T19:04:13.299474Z",
          "iopub.status.busy": "2021-01-13T19:04:13.298760Z",
          "iopub.status.idle": "2021-01-13T19:04:13.898376Z",
          "shell.execute_reply": "2021-01-13T19:04:13.897760Z"
        },
        "papermill": {
          "duration": 0.618409,
          "end_time": "2021-01-13T19:04:13.898494",
          "exception": false,
          "start_time": "2021-01-13T19:04:13.280085",
          "status": "completed"
        },
        "tags": [],
        "id": "hq7KMYwUN0Jp"
      },
      "outputs": [],
      "source": [
        "# model = Sequential()\n",
        "\n",
        "# model.add(Conv2D(16, kernel_size=(2, 2), input_shape=(128, 128, 3), padding = 'Same'))\n",
        "# model.add(Conv2D(16, kernel_size=(2, 2), activation ='relu', padding = 'Same'))\n",
        "# model.add(BatchNormalization())\n",
        "# model.add(MaxPooling2D(pool_size=(2, 2)))\n",
        "# model.add(Dropout(0.25))\n",
        "\n",
        "# model.add(Conv2D(32, kernel_size=(2, 2), activation ='relu', padding = 'Same'))\n",
        "# model.add(Conv2D(32, kernel_size=(2, 2), activation ='relu', padding = 'Same'))\n",
        "# model.add(BatchNormalization())\n",
        "# model.add(MaxPooling2D(pool_size=(2, 2)))\n",
        "# model.add(Dropout(0.25))\n",
        "\n",
        "# model.add(Conv2D(32, kernel_size = (2,2), activation ='relu', padding = 'Same'))\n",
        "# model.add(Conv2D(32, kernel_size = (2,2), activation ='relu', padding = 'Same'))\n",
        "# model.add(BatchNormalization())\n",
        "# model.add(MaxPooling2D(pool_size=(2,2), strides=(2,2)))\n",
        "# model.add(Dropout(0.25))\n",
        "\n",
        "# model.add(Flatten())\n",
        "\n",
        "# model.add(Dense(512, activation='relu'))\n",
        "# model.add(Dropout(0.5))\n",
        "# model.add(Dense(2, activation='softmax'))\n",
        "\n",
        "# model.compile(loss = \"categorical_crossentropy\", optimizer='RMSProp', metrics=['acc'])\n",
        "# print(model.summary())"
      ]
    },
    {
      "cell_type": "markdown",
      "source": [
        "# Validating the data"
      ],
      "metadata": {
        "id": "wnX6tU6Ktojg"
      }
    },
    {
      "cell_type": "code",
      "source": [
        "from tensorflow.keras.callbacks import EarlyStopping\n",
        "early_stop=EarlyStopping(monitor='val_loss',mode='min',verbose=1,patience=5)"
      ],
      "metadata": {
        "id": "klNrimrNimSR"
      },
      "execution_count": null,
      "outputs": []
    },
    {
      "cell_type": "code",
      "execution_count": null,
      "metadata": {
        "execution": {
          "iopub.execute_input": "2021-01-13T19:04:13.983118Z",
          "iopub.status.busy": "2021-01-13T19:04:13.982398Z",
          "iopub.status.idle": "2021-01-13T19:06:37.972111Z",
          "shell.execute_reply": "2021-01-13T19:06:37.972721Z"
        },
        "papermill": {
          "duration": 144.013421,
          "end_time": "2021-01-13T19:06:37.972915",
          "exception": false,
          "start_time": "2021-01-13T19:04:13.959494",
          "status": "completed"
        },
        "tags": [],
        "colab": {
          "base_uri": "https://localhost:8080/"
        },
        "id": "VUB4G5LXN0Jq",
        "outputId": "d4a3ece3-3115-448a-b1ad-f2c55d95416b"
      },
      "outputs": [
        {
          "output_type": "stream",
          "name": "stdout",
          "text": [
            "Epoch 1/30\n",
            "46/46 [==============================] - 5s 102ms/step - loss: 12.3587 - acc: 0.8026 - val_loss: 0.6615 - val_acc: 0.7512\n",
            "Epoch 2/30\n",
            "46/46 [==============================] - 4s 87ms/step - loss: 0.1971 - acc: 0.8847 - val_loss: 0.4692 - val_acc: 0.6341\n",
            "Epoch 3/30\n",
            "46/46 [==============================] - 4s 87ms/step - loss: 0.1214 - acc: 0.9424 - val_loss: 0.3814 - val_acc: 0.8244\n",
            "Epoch 4/30\n",
            "46/46 [==============================] - 4s 88ms/step - loss: 0.0900 - acc: 0.9543 - val_loss: 0.2529 - val_acc: 0.8976\n",
            "Epoch 5/30\n",
            "46/46 [==============================] - 4s 87ms/step - loss: 0.0760 - acc: 0.9641 - val_loss: 0.3596 - val_acc: 0.9024\n",
            "Epoch 6/30\n",
            "46/46 [==============================] - 4s 88ms/step - loss: 0.0582 - acc: 0.9766 - val_loss: 0.2479 - val_acc: 0.9366\n",
            "Epoch 7/30\n",
            "46/46 [==============================] - 4s 89ms/step - loss: 0.0352 - acc: 0.9766 - val_loss: 0.2730 - val_acc: 0.9415\n",
            "Epoch 8/30\n",
            "46/46 [==============================] - 4s 89ms/step - loss: 0.0326 - acc: 0.9810 - val_loss: 0.2253 - val_acc: 0.9220\n",
            "Epoch 9/30\n",
            "46/46 [==============================] - 4s 89ms/step - loss: 0.0193 - acc: 0.9864 - val_loss: 0.2570 - val_acc: 0.9268\n",
            "Epoch 10/30\n",
            "46/46 [==============================] - 4s 89ms/step - loss: 0.0150 - acc: 0.9962 - val_loss: 0.2073 - val_acc: 0.9317\n",
            "Epoch 11/30\n",
            "46/46 [==============================] - 4s 90ms/step - loss: 0.0122 - acc: 0.9973 - val_loss: 0.3917 - val_acc: 0.9415\n",
            "Epoch 12/30\n",
            "46/46 [==============================] - 4s 90ms/step - loss: 0.0278 - acc: 0.9902 - val_loss: 0.3525 - val_acc: 0.8976\n",
            "Epoch 13/30\n",
            "46/46 [==============================] - 4s 91ms/step - loss: 0.0578 - acc: 0.9788 - val_loss: 0.4492 - val_acc: 0.9122\n",
            "Epoch 14/30\n",
            "46/46 [==============================] - 4s 89ms/step - loss: 0.0653 - acc: 0.9826 - val_loss: 0.4731 - val_acc: 0.8098\n",
            "Epoch 15/30\n",
            "46/46 [==============================] - 4s 88ms/step - loss: 0.0338 - acc: 0.9864 - val_loss: 0.4859 - val_acc: 0.9366\n",
            "Epoch 15: early stopping\n"
          ]
        }
      ],
      "source": [
        "validate = model.fit(x_train, y_train, epochs = 30, batch_size = 40, verbose = 1, validation_data = (x_test, y_test), callbacks=[early_stop])"
      ]
    },
    {
      "cell_type": "markdown",
      "metadata": {
        "papermill": {
          "duration": 0.068349,
          "end_time": "2021-01-13T19:06:38.108121",
          "exception": false,
          "start_time": "2021-01-13T19:06:38.039772",
          "status": "completed"
        },
        "tags": [],
        "id": "OBkVFBEJN0Jr"
      },
      "source": [
        "# Plotting Testing and Validation Losses"
      ]
    },
    {
      "cell_type": "code",
      "execution_count": null,
      "metadata": {
        "execution": {
          "iopub.execute_input": "2021-01-13T19:06:38.247633Z",
          "iopub.status.busy": "2021-01-13T19:06:38.246928Z",
          "iopub.status.idle": "2021-01-13T19:06:38.495973Z",
          "shell.execute_reply": "2021-01-13T19:06:38.495448Z"
        },
        "papermill": {
          "duration": 0.31992,
          "end_time": "2021-01-13T19:06:38.496105",
          "exception": false,
          "start_time": "2021-01-13T19:06:38.176185",
          "status": "completed"
        },
        "tags": [],
        "colab": {
          "base_uri": "https://localhost:8080/",
          "height": 295
        },
        "id": "zH4_yz3rN0Js",
        "outputId": "3615588c-22a1-4160-f61a-7096b6aa7aa2"
      },
      "outputs": [
        {
          "output_type": "display_data",
          "data": {
            "text/plain": [
              "<Figure size 432x288 with 1 Axes>"
            ],
            "image/png": "[encoded data removed]"
          },
          "metadata": {
            "needs_background": "light"
          }
        }
      ],
      "source": [
        "plt.plot(validate.history['loss'])\n",
        "plt.plot(validate.history['val_loss'])\n",
        "plt.title('Model Loss')\n",
        "plt.ylabel('Loss')\n",
        "plt.xlabel('Epoch')\n",
        "plt.legend(['Test', 'Validation'], loc='upper right')\n",
        "plt.show()"
      ]
    },
    {
      "cell_type": "markdown",
      "source": [
        "# Plotting Testing and Validation Accuracies"
      ],
      "metadata": {
        "id": "Q4qv9sKk3ax7"
      }
    },
    {
      "cell_type": "code",
      "source": [
        "plt.plot(validate.history['acc'])\n",
        "plt.plot(validate.history['val_acc'])\n",
        "plt.title('Model Accuracy')\n",
        "plt.ylabel('Accuracy')\n",
        "plt.xlabel('Epoch')\n",
        "plt.legend(['Test', 'Validation'], loc='upper right')\n",
        "plt.show()"
      ],
      "metadata": {
        "colab": {
          "base_uri": "https://localhost:8080/",
          "height": 295
        },
        "id": "TNqFSmkb3ACB",
        "outputId": "4a8f0155-7b3b-4b4e-9858-9ab9b58ff932"
      },
      "execution_count": null,
      "outputs": [
        {
          "output_type": "display_data",
          "data": {
            "text/plain": [
              "<Figure size 432x288 with 1 Axes>"
            ],
            "image/png": "[encoded data removed]"
          },
          "metadata": {
            "needs_background": "light"
          }
        }
      ]
    },
    {
      "cell_type": "markdown",
      "metadata": {
        "papermill": {
          "duration": 0.068951,
          "end_time": "2021-01-13T19:06:38.633552",
          "exception": false,
          "start_time": "2021-01-13T19:06:38.564601",
          "status": "completed"
        },
        "tags": [],
        "id": "W9L39y5gN0Js"
      },
      "source": [
        "# Predicting whether an image has brain tumour or not"
      ]
    },
    {
      "cell_type": "code",
      "execution_count": null,
      "metadata": {
        "execution": {
          "iopub.execute_input": "2021-01-13T19:06:38.778565Z",
          "iopub.status.busy": "2021-01-13T19:06:38.777465Z",
          "iopub.status.idle": "2021-01-13T19:06:38.789382Z",
          "shell.execute_reply": "2021-01-13T19:06:38.790323Z"
        },
        "papermill": {
          "duration": 0.087731,
          "end_time": "2021-01-13T19:06:38.790575",
          "exception": false,
          "start_time": "2021-01-13T19:06:38.702844",
          "status": "completed"
        },
        "tags": [],
        "id": "VbnDjluJN0Js"
      },
      "outputs": [],
      "source": [
        "def classify(classification):\n",
        "    if classification==0:\n",
        "        return 'there is a tumour!'\n",
        "    else:\n",
        "        return 'there is no tumour!'"
      ]
    },
    {
      "cell_type": "code",
      "execution_count": null,
      "metadata": {
        "execution": {
          "iopub.execute_input": "2021-01-13T19:06:38.973252Z",
          "iopub.status.busy": "2021-01-13T19:06:38.972171Z",
          "iopub.status.idle": "2021-01-13T19:06:39.325364Z",
          "shell.execute_reply": "2021-01-13T19:06:39.325840Z"
        },
        "papermill": {
          "duration": 0.434388,
          "end_time": "2021-01-13T19:06:39.325993",
          "exception": false,
          "start_time": "2021-01-13T19:06:38.891605",
          "status": "completed"
        },
        "tags": [],
        "colab": {
          "base_uri": "https://localhost:8080/",
          "height": 321
        },
        "id": "w9_FgjdhN0Jt",
        "outputId": "28a4f182-fbd8-49e8-b595-8d496dff5113"
      },
      "outputs": [
        {
          "output_type": "stream",
          "name": "stdout",
          "text": [
            "0\n",
            "[[9.9996877e-01 3.1245596e-05]]\n",
            "99.99687671661377% Sure that there is a tumour!\n"
          ]
        },
        {
          "output_type": "display_data",
          "data": {
            "text/plain": [
              "<Figure size 432x288 with 1 Axes>"
            ],
            "image/png": "[encoded data removed]"
          },
          "metadata": {
            "needs_background": "light"
          }
        }
      ],
      "source": [
        "from matplotlib.pyplot import imshow\n",
        "img = Image.open(r\"/content/drive/My Drive/Colab Notebooks/BTD/brain_tumor_dataset/Testing/meningioma_tumor/image(24).jpg\")\n",
        "x = np.array(img.resize((128,128)))\n",
        "x = x.reshape(1,128,128,3)\n",
        "res = model.predict_on_batch(x)\n",
        "classification = np.where(res == np.amax(res))[1][0]\n",
        "imshow(img)\n",
        "print(classification)\n",
        "print(res)\n",
        "print(str(res[0][classification]*100) + '% Sure that ' + classify(classification))"
      ]
    },
    {
      "cell_type": "code",
      "execution_count": null,
      "metadata": {
        "execution": {
          "iopub.execute_input": "2021-01-13T19:06:39.475664Z",
          "iopub.status.busy": "2021-01-13T19:06:39.474672Z",
          "iopub.status.idle": "2021-01-13T19:06:39.688377Z",
          "shell.execute_reply": "2021-01-13T19:06:39.688857Z"
        },
        "papermill": {
          "duration": 0.290742,
          "end_time": "2021-01-13T19:06:39.689010",
          "exception": false,
          "start_time": "2021-01-13T19:06:39.398268",
          "status": "completed"
        },
        "tags": [],
        "colab": {
          "base_uri": "https://localhost:8080/",
          "height": 321
        },
        "id": "2K48OOGfN0Jt",
        "outputId": "3b90e285-0cd7-4726-877b-e875117e7a1a"
      },
      "outputs": [
        {
          "output_type": "stream",
          "name": "stdout",
          "text": [
            "1\n",
            "[[8.974135e-09 1.000000e+00]]\n",
            "100.0% Sure that there is no tumour!\n"
          ]
        },
        {
          "output_type": "display_data",
          "data": {
            "text/plain": [
              "<Figure size 432x288 with 1 Axes>"
            ],
            "image/png": "[encoded data removed]"
          },
          "metadata": {
            "needs_background": "light"
          }
        }
      ],
      "source": [
        "from matplotlib.pyplot import imshow\n",
        "img = Image.open(r\"/content/drive/My Drive/Colab Notebooks/BTD/brain_tumor_dataset/Testing/no_tumor/image(88).jpg\")\n",
        "x = np.array(img.resize((128,128)))\n",
        "x = x.reshape(1,128,128,3)\n",
        "res = model.predict_on_batch(x)\n",
        "classification = np.where(res == np.amax(res))[1][0]\n",
        "imshow(img)\n",
        "print(classification)\n",
        "print(res)\n",
        "print(str(res[0][classification]*100) + '% Sure that ' + classify(classification))"
      ]
    },
    {
      "cell_type": "code",
      "source": [
        "from sklearn.metrics import confusion_matrix\n",
        "\n",
        "k = model.predict(x_test)\n",
        "for i in range(len(k)):\n",
        "  if (k[i][0]>k[i][1]):\n",
        "    k[i] = int(1)\n",
        "    print(k[i])\n",
        "  else:\n",
        "    k[i] = 0\n",
        "  k[i] = max(k[i])\n",
        "  y_test[i] = y_test[i][1]\n",
        "k_flatten = k.flatten()\n",
        "print(k_flatten, \"\\n\")\n",
        "y_test_flatten = y_test.flatten()\n",
        "print(y_test_flatten)\n",
        "\n",
        "# simply call the confusion_matrix function to build a confusion matrix\n",
        "print(\"\\n\\n Confusion matrix:\")\n",
        "# cm = confusion_matrix(k_flatten, y_test_flatten)\n",
        "cm = confusion_matrix(y_test_flatten, k_flatten)\n",
        "print(cm)"
      ],
      "metadata": {
        "colab": {
          "base_uri": "https://localhost:8080/"
        },
        "id": "r5JGOhEm3G3_",
        "outputId": "f9a2529c-bfae-4168-d680-2305aba6ec1b"
      },
      "execution_count": null,
      "outputs": [
        {
          "output_type": "stream",
          "name": "stdout",
          "text": [
            "[1. 1.]\n",
            "[1. 1.]\n",
            "[1. 1.]\n",
            "[1. 1.]\n",
            "[1. 1.]\n",
            "[1. 1.]\n",
            "[1. 1.]\n",
            "[1. 1.]\n",
            "[1. 1.]\n",
            "[1. 1.]\n",
            "[1. 1.]\n",
            "[1. 1.]\n",
            "[1. 1.]\n",
            "[1. 1.]\n",
            "[1. 1.]\n",
            "[1. 1.]\n",
            "[1. 1.]\n",
            "[1. 1.]\n",
            "[1. 1.]\n",
            "[1. 1.]\n",
            "[1. 1.]\n",
            "[1. 1.]\n",
            "[1. 1.]\n",
            "[1. 1.]\n",
            "[1. 1.]\n",
            "[1. 1.]\n",
            "[1. 1.]\n",
            "[1. 1.]\n",
            "[1. 1.]\n",
            "[1. 1.]\n",
            "[1. 1.]\n",
            "[1. 1.]\n",
            "[1. 1.]\n",
            "[1. 1.]\n",
            "[1. 1.]\n",
            "[1. 1.]\n",
            "[1. 1.]\n",
            "[1. 1.]\n",
            "[1. 1.]\n",
            "[1. 1.]\n",
            "[1. 1.]\n",
            "[1. 1.]\n",
            "[1. 1.]\n",
            "[1. 1.]\n",
            "[1. 1.]\n",
            "[1. 1.]\n",
            "[1. 1.]\n",
            "[1. 1.]\n",
            "[1. 1.]\n",
            "[1. 1.]\n",
            "[1. 1.]\n",
            "[1. 1.]\n",
            "[1. 1.]\n",
            "[1. 1.]\n",
            "[1. 1.]\n",
            "[1. 1.]\n",
            "[1. 1.]\n",
            "[1. 1.]\n",
            "[1. 1.]\n",
            "[1. 1.]\n",
            "[1. 1.]\n",
            "[1. 1.]\n",
            "[1. 1.]\n",
            "[1. 1.]\n",
            "[1. 1.]\n",
            "[1. 1.]\n",
            "[1. 1.]\n",
            "[1. 1.]\n",
            "[1. 1.]\n",
            "[1. 1.]\n",
            "[1. 1.]\n",
            "[1. 1.]\n",
            "[1. 1.]\n",
            "[1. 1.]\n",
            "[1. 1.]\n",
            "[1. 1.]\n",
            "[1. 1.]\n",
            "[1. 1.]\n",
            "[1. 1.]\n",
            "[1. 1.]\n",
            "[1. 1.]\n",
            "[1. 1.]\n",
            "[1. 1.]\n",
            "[1. 1.]\n",
            "[1. 1.]\n",
            "[1. 1.]\n",
            "[1. 1.]\n",
            "[1. 1.]\n",
            "[1. 1.]\n",
            "[1. 1.]\n",
            "[1. 1.]\n",
            "[1. 1.]\n",
            "[1. 1.]\n",
            "[1. 1.]\n",
            "[1. 1.]\n",
            "[1. 1.]\n",
            "[1. 1.]\n",
            "[1. 1.]\n",
            "[1. 1.]\n",
            "[1. 1.]\n",
            "[1. 1.]\n",
            "[1. 1.]\n",
            "[1. 1.]\n",
            "[1. 1.]\n",
            "[1. 1.]\n",
            "[1. 1.]\n",
            "[1. 1.]\n",
            "[1. 1.]\n",
            "[1. 1.]\n",
            "[1. 1.]\n",
            "[1. 1.]\n",
            "[1. 1.]\n",
            "[1. 1.]\n",
            "[1. 1.]\n",
            "[1. 1.]\n",
            "[1. 1.]\n",
            "[1. 1.]\n",
            "[1. 1.]\n",
            "[1. 1.]\n",
            "[1. 1.]\n",
            "[1. 1.]\n",
            "[1. 1.]\n",
            "[1. 1.]\n",
            "[1. 1.]\n",
            "[1. 1.]\n",
            "[1. 1.]\n",
            "[1. 1.]\n",
            "[1. 1.]\n",
            "[1. 1.]\n",
            "[1. 1.]\n",
            "[1. 1.]\n",
            "[1. 1.]\n",
            "[1. 1.]\n",
            "[1. 1.]\n",
            "[1. 1.]\n",
            "[1. 1.]\n",
            "[1. 1.]\n",
            "[1. 1.]\n",
            "[1. 1.]\n",
            "[1. 1.]\n",
            "[1. 1.]\n",
            "[1. 1.]\n",
            "[1. 1.]\n",
            "[1. 1.]\n",
            "[1. 1.]\n",
            "[1. 1.]\n",
            "[1. 1.]\n",
            "[1. 1.]\n",
            "[1. 1.]\n",
            "[1. 1.]\n",
            "[1. 1.]\n",
            "[1. 1.]\n",
            "[1. 1.]\n",
            "[1. 1.]\n",
            "[1. 1.]\n",
            "[1. 1.]\n",
            "[1. 1.]\n",
            "[1. 1.]\n",
            "[1. 1.]\n",
            "[1. 1.]\n",
            "[1. 1.]\n",
            "[1. 1.]\n",
            "[1. 1.]\n",
            "[1. 1.]\n",
            "[1. 1.]\n",
            "[1. 1. 1. 1. 1. 1. 1. 1. 1. 1. 1. 1. 0. 0. 1. 1. 1. 1. 1. 1. 1. 1. 1. 1.\n",
            " 1. 1. 1. 1. 1. 1. 1. 1. 1. 1. 1. 1. 1. 1. 0. 0. 1. 1. 0. 0. 0. 0. 1. 1.\n",
            " 1. 1. 1. 1. 1. 1. 0. 0. 1. 1. 0. 0. 1. 1. 1. 1. 1. 1. 1. 1. 1. 1. 0. 0.\n",
            " 1. 1. 1. 1. 1. 1. 0. 0. 1. 1. 1. 1. 1. 1. 1. 1. 1. 1. 1. 1. 0. 0. 0. 0.\n",
            " 1. 1. 0. 0. 1. 1. 0. 0. 1. 1. 1. 1. 1. 1. 1. 1. 1. 1. 1. 1. 0. 0. 1. 1.\n",
            " 1. 1. 1. 1. 0. 0. 1. 1. 1. 1. 1. 1. 1. 1. 1. 1. 1. 1. 1. 1. 1. 1. 1. 1.\n",
            " 1. 1. 1. 1. 1. 1. 1. 1. 1. 1. 1. 1. 1. 1. 1. 1. 1. 1. 1. 1. 1. 1. 0. 0.\n",
            " 1. 1. 0. 0. 1. 1. 1. 1. 1. 1. 1. 1. 1. 1. 0. 0. 0. 0. 1. 1. 1. 1. 1. 1.\n",
            " 0. 0. 1. 1. 1. 1. 1. 1. 1. 1. 0. 0. 0. 0. 1. 1. 1. 1. 1. 1. 0. 0. 1. 1.\n",
            " 1. 1. 1. 1. 1. 1. 1. 1. 0. 0. 1. 1. 1. 1. 1. 1. 1. 1. 1. 1. 0. 0. 0. 0.\n",
            " 0. 0. 1. 1. 1. 1. 1. 1. 0. 0. 1. 1. 1. 1. 0. 0. 0. 0. 1. 1. 1. 1. 1. 1.\n",
            " 1. 1. 1. 1. 1. 1. 1. 1. 1. 1. 0. 0. 1. 1. 1. 1. 1. 1. 1. 1. 1. 1. 1. 1.\n",
            " 0. 0. 1. 1. 1. 1. 1. 1. 1. 1. 1. 1. 1. 1. 1. 1. 1. 1. 1. 1. 0. 0. 1. 1.\n",
            " 1. 1. 0. 0. 1. 1. 1. 1. 1. 1. 1. 1. 1. 1. 1. 1. 1. 1. 1. 1. 1. 1. 0. 0.\n",
            " 1. 1. 1. 1. 1. 1. 1. 1. 1. 1. 1. 1. 1. 1. 1. 1. 1. 1. 1. 1. 1. 1. 1. 1.\n",
            " 1. 1. 1. 1. 1. 1. 1. 1. 0. 0. 1. 1. 1. 1. 1. 1. 1. 1. 0. 0. 0. 0. 1. 1.\n",
            " 1. 1. 0. 0. 1. 1. 1. 1. 1. 1. 1. 1. 1. 1. 1. 1. 1. 1. 0. 0. 1. 1. 1. 1.\n",
            " 0. 0.] \n",
            "\n",
            "[0. 0. 0. 0. 0. 0. 0. 0. 0. 0. 0. 0. 1. 1. 0. 0. 0. 0. 0. 0. 0. 0. 0. 0.\n",
            " 0. 0. 0. 0. 0. 0. 0. 0. 0. 0. 0. 0. 0. 0. 1. 1. 0. 0. 1. 1. 1. 1. 0. 0.\n",
            " 0. 0. 0. 0. 0. 0. 0. 0. 0. 0. 1. 1. 0. 0. 0. 0. 0. 0. 0. 0. 0. 0. 1. 1.\n",
            " 0. 0. 0. 0. 0. 0. 1. 1. 0. 0. 0. 0. 0. 0. 0. 0. 1. 1. 0. 0. 1. 1. 1. 1.\n",
            " 0. 0. 0. 0. 0. 0. 1. 1. 0. 0. 0. 0. 0. 0. 0. 0. 0. 0. 1. 1. 1. 1. 0. 0.\n",
            " 0. 0. 0. 0. 0. 0. 0. 0. 0. 0. 0. 0. 0. 0. 0. 0. 0. 0. 0. 0. 0. 0. 0. 0.\n",
            " 0. 0. 0. 0. 0. 0. 0. 0. 0. 0. 0. 0. 0. 0. 0. 0. 0. 0. 0. 0. 0. 0. 1. 1.\n",
            " 0. 0. 0. 0. 0. 0. 0. 0. 0. 0. 0. 0. 0. 0. 1. 1. 0. 0. 0. 0. 0. 0. 0. 0.\n",
            " 1. 1. 0. 0. 0. 0. 0. 0. 0. 0. 1. 1. 1. 1. 0. 0. 0. 0. 0. 0. 1. 1. 0. 0.\n",
            " 0. 0. 0. 0. 0. 0. 0. 0. 1. 1. 0. 0. 0. 0. 0. 0. 0. 0. 0. 0. 1. 1. 1. 1.\n",
            " 0. 0. 0. 0. 0. 0. 0. 0. 1. 1. 0. 0. 0. 0. 1. 1. 1. 1. 0. 0. 0. 0. 0. 0.\n",
            " 0. 0. 0. 0. 0. 0. 0. 0. 0. 0. 1. 1. 0. 0. 0. 0. 0. 0. 0. 0. 0. 0. 0. 0.\n",
            " 1. 1. 0. 0. 0. 0. 0. 0. 0. 0. 0. 0. 0. 0. 0. 0. 0. 0. 0. 0. 1. 1. 0. 0.\n",
            " 0. 0. 1. 1. 0. 0. 0. 0. 0. 0. 0. 0. 0. 0. 0. 0. 0. 0. 0. 0. 0. 0. 0. 0.\n",
            " 0. 0. 0. 0. 0. 0. 0. 0. 0. 0. 0. 0. 0. 0. 0. 0. 1. 1. 0. 0. 0. 0. 0. 0.\n",
            " 0. 0. 0. 0. 0. 0. 0. 0. 1. 1. 0. 0. 0. 0. 0. 0. 0. 0. 1. 1. 1. 1. 0. 0.\n",
            " 0. 0. 1. 1. 1. 1. 0. 0. 0. 0. 1. 1. 0. 0. 0. 0. 0. 0. 1. 1. 0. 0. 0. 0.\n",
            " 0. 0.]\n",
            "\n",
            "\n",
            " Confusion matrix:\n",
            "[[ 16  64]\n",
            " [320  10]]\n"
          ]
        }
      ]
    },
    {
      "cell_type": "markdown",
      "source": [
        "# 2nd CNN"
      ],
      "metadata": {
        "id": "l7YhKxZsoFRT"
      }
    },
    {
      "cell_type": "code",
      "source": [
        "model = Sequential()\n",
        "\n",
        "model.add(Conv2D(16, kernel_size=(2, 2), input_shape=(128, 128, 3), padding = 'Same'))\n",
        "model.add(Conv2D(16, kernel_size=(2, 2), activation ='relu', padding = 'Same'))\n",
        "model.add(BatchNormalization())\n",
        "model.add(MaxPooling2D(pool_size=(2, 2)))\n",
        "model.add(Dropout(0.25))\n",
        "\n",
        "model.add(Conv2D(32, kernel_size=(2, 2), activation ='relu', padding = 'Same'))\n",
        "model.add(Conv2D(32, kernel_size=(2, 2), activation ='relu', padding = 'Same'))\n",
        "model.add(BatchNormalization())\n",
        "model.add(MaxPooling2D(pool_size=(2, 2)))\n",
        "model.add(Dropout(0.25))\n",
        "\n",
        "model.add(Conv2D(32, kernel_size = (2,2), activation ='relu', padding = 'Same'))\n",
        "model.add(Conv2D(32, kernel_size = (2,2), activation ='relu', padding = 'Same'))\n",
        "model.add(BatchNormalization())\n",
        "model.add(MaxPooling2D(pool_size=(2,2), strides=(2,2)))\n",
        "model.add(Dropout(0.25))\n",
        "\n",
        "model.add(Flatten())\n",
        "\n",
        "model.add(Dense(512, activation='relu'))\n",
        "model.add(Dropout(0.5))\n",
        "model.add(Dense(2, activation='softmax'))\n",
        "\n",
        "model.compile(loss = \"categorical_crossentropy\", optimizer='RMSProp', metrics=['acc'])\n",
        "print(model.summary())"
      ],
      "metadata": {
        "colab": {
          "base_uri": "https://localhost:8080/"
        },
        "id": "BLZNQgaUoIqE",
        "outputId": "08c71716-897a-459e-b470-1e789780a16b"
      },
      "execution_count": null,
      "outputs": [
        {
          "output_type": "stream",
          "name": "stdout",
          "text": [
            "Model: \"sequential_7\"\n",
            "_________________________________________________________________\n",
            " Layer (type)                Output Shape              Param #   \n",
            "=================================================================\n",
            " conv2d_26 (Conv2D)          (None, 128, 128, 16)      208       \n",
            "                                                                 \n",
            " conv2d_27 (Conv2D)          (None, 128, 128, 16)      1040      \n",
            "                                                                 \n",
            " batch_normalization_13 (Bat  (None, 128, 128, 16)     64        \n",
            " chNormalization)                                                \n",
            "                                                                 \n",
            " max_pooling2d_13 (MaxPoolin  (None, 64, 64, 16)       0         \n",
            " g2D)                                                            \n",
            "                                                                 \n",
            " dropout_20 (Dropout)        (None, 64, 64, 16)        0         \n",
            "                                                                 \n",
            " conv2d_28 (Conv2D)          (None, 64, 64, 32)        2080      \n",
            "                                                                 \n",
            " conv2d_29 (Conv2D)          (None, 64, 64, 32)        4128      \n",
            "                                                                 \n",
            " batch_normalization_14 (Bat  (None, 64, 64, 32)       128       \n",
            " chNormalization)                                                \n",
            "                                                                 \n",
            " max_pooling2d_14 (MaxPoolin  (None, 32, 32, 32)       0         \n",
            " g2D)                                                            \n",
            "                                                                 \n",
            " dropout_21 (Dropout)        (None, 32, 32, 32)        0         \n",
            "                                                                 \n",
            " conv2d_30 (Conv2D)          (None, 32, 32, 32)        4128      \n",
            "                                                                 \n",
            " conv2d_31 (Conv2D)          (None, 32, 32, 32)        4128      \n",
            "                                                                 \n",
            " batch_normalization_15 (Bat  (None, 32, 32, 32)       128       \n",
            " chNormalization)                                                \n",
            "                                                                 \n",
            " max_pooling2d_15 (MaxPoolin  (None, 16, 16, 32)       0         \n",
            " g2D)                                                            \n",
            "                                                                 \n",
            " dropout_22 (Dropout)        (None, 16, 16, 32)        0         \n",
            "                                                                 \n",
            " flatten_7 (Flatten)         (None, 8192)              0         \n",
            "                                                                 \n",
            " dense_14 (Dense)            (None, 512)               4194816   \n",
            "                                                                 \n",
            " dropout_23 (Dropout)        (None, 512)               0         \n",
            "                                                                 \n",
            " dense_15 (Dense)            (None, 2)                 1026      \n",
            "                                                                 \n",
            "=================================================================\n",
            "Total params: 4,211,874\n",
            "Trainable params: 4,211,714\n",
            "Non-trainable params: 160\n",
            "_________________________________________________________________\n",
            "None\n"
          ]
        }
      ]
    },
    {
      "cell_type": "markdown",
      "source": [
        "# Validation"
      ],
      "metadata": {
        "id": "Cdfxk_hhoPB3"
      }
    },
    {
      "cell_type": "code",
      "source": [
        "from tensorflow.keras.callbacks import EarlyStopping\n",
        "early_stop=EarlyStopping(monitor='val_loss',mode='min',verbose=1,patience=5)"
      ],
      "metadata": {
        "id": "tdxk0V97oOrv"
      },
      "execution_count": null,
      "outputs": []
    },
    {
      "cell_type": "code",
      "source": [
        "validate = model.fit(x_train, y_train, epochs = 30, batch_size = 40, verbose = 1, validation_data = (x_test, y_test), callbacks=[early_stop])"
      ],
      "metadata": {
        "colab": {
          "base_uri": "https://localhost:8080/"
        },
        "id": "njvP7HwPoTNt",
        "outputId": "7e2c7608-25b2-47ba-a4a1-d8622c7c834c"
      },
      "execution_count": null,
      "outputs": [
        {
          "output_type": "stream",
          "name": "stdout",
          "text": [
            "Epoch 1/30\n",
            "46/46 [==============================] - 3s 44ms/step - loss: 2.5112 - acc: 0.8336 - val_loss: 1.7785 - val_acc: 0.0732\n",
            "Epoch 2/30\n",
            "46/46 [==============================] - 1s 30ms/step - loss: 0.5849 - acc: 0.8951 - val_loss: 1.6153 - val_acc: 0.0780\n",
            "Epoch 3/30\n",
            "46/46 [==============================] - 1s 30ms/step - loss: 0.3332 - acc: 0.9168 - val_loss: 0.5885 - val_acc: 0.8634\n",
            "Epoch 4/30\n",
            "46/46 [==============================] - 1s 30ms/step - loss: 0.2903 - acc: 0.9288 - val_loss: 0.6827 - val_acc: 0.8341\n",
            "Epoch 5/30\n",
            "46/46 [==============================] - 1s 30ms/step - loss: 0.2029 - acc: 0.9473 - val_loss: 0.7763 - val_acc: 0.8195\n",
            "Epoch 6/30\n",
            "46/46 [==============================] - 1s 30ms/step - loss: 0.2056 - acc: 0.9516 - val_loss: 0.9597 - val_acc: 0.8341\n",
            "Epoch 7/30\n",
            "46/46 [==============================] - 1s 30ms/step - loss: 0.1745 - acc: 0.9614 - val_loss: 0.9418 - val_acc: 0.8488\n",
            "Epoch 8/30\n",
            "46/46 [==============================] - 1s 31ms/step - loss: 0.1878 - acc: 0.9647 - val_loss: 1.3175 - val_acc: 0.8244\n",
            "Epoch 8: early stopping\n"
          ]
        }
      ]
    },
    {
      "cell_type": "code",
      "source": [
        "plt.plot(validate.history['loss'])\n",
        "plt.plot(validate.history['val_loss'])\n",
        "plt.title('Model Loss')\n",
        "plt.ylabel('Loss')\n",
        "plt.xlabel('Epoch')\n",
        "plt.legend(['Test', 'Validation'], loc='upper right')\n",
        "plt.show()"
      ],
      "metadata": {
        "colab": {
          "base_uri": "https://localhost:8080/",
          "height": 295
        },
        "id": "gEE8utaZoWJX",
        "outputId": "1313061d-fce0-4984-cf5f-10a6c2ffc4f6"
      },
      "execution_count": null,
      "outputs": [
        {
          "output_type": "display_data",
          "data": {
            "text/plain": [
              "<Figure size 432x288 with 1 Axes>"
            ],
            "image/png": "[encoded data removed]"
          },
          "metadata": {
            "needs_background": "light"
          }
        }
      ]
    },
    {
      "cell_type": "code",
      "source": [
        "plt.plot(validate.history['acc'])\n",
        "plt.plot(validate.history['val_acc'])\n",
        "plt.title('Model Accuracy')\n",
        "plt.ylabel('Accuracy')\n",
        "plt.xlabel('Epoch')\n",
        "plt.legend(['Test', 'Validation'], loc='upper right')\n",
        "plt.show()"
      ],
      "metadata": {
        "colab": {
          "base_uri": "https://localhost:8080/",
          "height": 295
        },
        "id": "gAJ-XfN2oYyV",
        "outputId": "d2be603f-c83b-42d1-c4dd-24ba6ca74d62"
      },
      "execution_count": null,
      "outputs": [
        {
          "output_type": "display_data",
          "data": {
            "text/plain": [
              "<Figure size 432x288 with 1 Axes>"
            ],
            "image/png": "[encoded data removed]"
          },
          "metadata": {
            "needs_background": "light"
          }
        }
      ]
    },
    {
      "cell_type": "markdown",
      "source": [
        "# Predicting whether an image has brain tumour or not"
      ],
      "metadata": {
        "id": "5I3lQuaaobqG"
      }
    },
    {
      "cell_type": "code",
      "source": [
        "def classify(classification):\n",
        "    if classification==0:\n",
        "        return 'there is a tumour!'\n",
        "    else:\n",
        "        return 'there is no tumour!'"
      ],
      "metadata": {
        "id": "MURoqmlDobdK"
      },
      "execution_count": null,
      "outputs": []
    },
    {
      "cell_type": "code",
      "source": [
        "from matplotlib.pyplot import imshow\n",
        "img = Image.open(r\"/content/drive/My Drive/Colab Notebooks/BTD/brain_tumor_dataset/Testing/meningioma_tumor/image(24).jpg\")\n",
        "x = np.array(img.resize((128,128)))\n",
        "x = x.reshape(1,128,128,3)\n",
        "res = model.predict_on_batch(x)\n",
        "classification = np.where(res == np.amax(res))[1][0]\n",
        "imshow(img)\n",
        "print(classification)\n",
        "print(res)\n",
        "print(str(res[0][classification]*100) + '% Sure that ' + classify(classification))"
      ],
      "metadata": {
        "colab": {
          "base_uri": "https://localhost:8080/",
          "height": 321
        },
        "id": "sidAF-m8oeXN",
        "outputId": "b55cadd8-7435-489f-a85f-e79bef185e33"
      },
      "execution_count": null,
      "outputs": [
        {
          "output_type": "stream",
          "name": "stdout",
          "text": [
            "0\n",
            "[[0.83447 0.16553]]\n",
            "83.44699740409851% Sure that there is a tumour!\n"
          ]
        },
        {
          "output_type": "display_data",
          "data": {
            "text/plain": [
              "<Figure size 432x288 with 1 Axes>"
            ],
            "image/png": "[encoded data removed]"
          },
          "metadata": {
            "needs_background": "light"
          }
        }
      ]
    },
    {
      "cell_type": "code",
      "source": [
        "from matplotlib.pyplot import imshow\n",
        "img = Image.open(r\"/content/drive/My Drive/Colab Notebooks/BTD/brain_tumor_dataset/Testing/no_tumor/image(88).jpg\")\n",
        "x = np.array(img.resize((128,128)))\n",
        "x = x.reshape(1,128,128,3)\n",
        "res = model.predict_on_batch(x)\n",
        "classification = np.where(res == np.amax(res))[1][0]\n",
        "imshow(img)\n",
        "print(classification)\n",
        "print(res)\n",
        "print(str(res[0][classification]*100) + '% Sure that ' + classify(classification))"
      ],
      "metadata": {
        "colab": {
          "base_uri": "https://localhost:8080/",
          "height": 321
        },
        "id": "2K6AdeJ5oej6",
        "outputId": "c2145300-2929-460f-c37e-df4d9c538982"
      },
      "execution_count": null,
      "outputs": [
        {
          "output_type": "stream",
          "name": "stdout",
          "text": [
            "1\n",
            "[[0.00702618 0.9929738 ]]\n",
            "99.2973804473877% Sure that there is no tumour!\n"
          ]
        },
        {
          "output_type": "display_data",
          "data": {
            "text/plain": [
              "<Figure size 432x288 with 1 Axes>"
            ],
            "image/png": "[encoded data removed]"
          },
          "metadata": {
            "needs_background": "light"
          }
        }
      ]
    },
    {
      "cell_type": "code",
      "source": [
        "from sklearn.metrics import confusion_matrix\n",
        "\n",
        "k = model.predict(x_test)\n",
        "for i in range(len(k)):\n",
        "  if (k[i][0]>k[i][1]):\n",
        "    k[i] = int(1)\n",
        "    print(k[i])\n",
        "  else:\n",
        "    k[i] = 0\n",
        "  k[i] = max(k[i])\n",
        "  y_test[i] = y_test[i][1]\n",
        "k_flatten = k.flatten()\n",
        "print(k_flatten, \"\\n\")\n",
        "y_test_flatten = y_test.flatten()\n",
        "print(y_test_flatten)\n",
        "\n",
        "# simply call the confusion_matrix function to build a confusion matrix\n",
        "print(\"\\n\\n Confusion matrix:\")\n",
        "# cm = confusion_matrix(k_flatten, y_test_flatten)\n",
        "cm = confusion_matrix(y_test_flatten, k_flatten)\n",
        "print(cm)"
      ],
      "metadata": {
        "colab": {
          "base_uri": "https://localhost:8080/"
        },
        "id": "KhOpaFgzG2gq",
        "outputId": "bb5c7d4d-8cd8-446a-9cd1-536a79dc4dd5"
      },
      "execution_count": null,
      "outputs": [
        {
          "output_type": "stream",
          "name": "stdout",
          "text": [
            "[1. 1.]\n",
            "[1. 1.]\n",
            "[1. 1.]\n",
            "[1. 1.]\n",
            "[1. 1.]\n",
            "[1. 1.]\n",
            "[1. 1.]\n",
            "[1. 1.]\n",
            "[1. 1.]\n",
            "[1. 1.]\n",
            "[1. 1.]\n",
            "[1. 1.]\n",
            "[1. 1.]\n",
            "[1. 1.]\n",
            "[1. 1.]\n",
            "[1. 1.]\n",
            "[1. 1.]\n",
            "[1. 1.]\n",
            "[1. 1.]\n",
            "[1. 1.]\n",
            "[1. 1.]\n",
            "[1. 1.]\n",
            "[1. 1.]\n",
            "[1. 1.]\n",
            "[1. 1.]\n",
            "[1. 1.]\n",
            "[1. 1.]\n",
            "[1. 1.]\n",
            "[1. 1.]\n",
            "[1. 1.]\n",
            "[1. 1.]\n",
            "[1. 1.]\n",
            "[1. 1.]\n",
            "[1. 1.]\n",
            "[1. 1.]\n",
            "[1. 1.]\n",
            "[1. 1.]\n",
            "[1. 1.]\n",
            "[1. 1.]\n",
            "[1. 1.]\n",
            "[1. 1.]\n",
            "[1. 1.]\n",
            "[1. 1.]\n",
            "[1. 1.]\n",
            "[1. 1.]\n",
            "[1. 1.]\n",
            "[1. 1.]\n",
            "[1. 1.]\n",
            "[1. 1.]\n",
            "[1. 1.]\n",
            "[1. 1.]\n",
            "[1. 1.]\n",
            "[1. 1.]\n",
            "[1. 1.]\n",
            "[1. 1.]\n",
            "[1. 1.]\n",
            "[1. 1.]\n",
            "[1. 1.]\n",
            "[1. 1.]\n",
            "[1. 1.]\n",
            "[1. 1.]\n",
            "[1. 1.]\n",
            "[1. 1.]\n",
            "[1. 1.]\n",
            "[1. 1.]\n",
            "[1. 1.]\n",
            "[1. 1.]\n",
            "[1. 1.]\n",
            "[1. 1.]\n",
            "[1. 1.]\n",
            "[1. 1.]\n",
            "[1. 1.]\n",
            "[1. 1.]\n",
            "[1. 1.]\n",
            "[1. 1.]\n",
            "[1. 1.]\n",
            "[1. 1.]\n",
            "[1. 1.]\n",
            "[1. 1.]\n",
            "[1. 1.]\n",
            "[1. 1.]\n",
            "[1. 1.]\n",
            "[1. 1.]\n",
            "[1. 1.]\n",
            "[1. 1.]\n",
            "[1. 1.]\n",
            "[1. 1.]\n",
            "[1. 1.]\n",
            "[1. 1.]\n",
            "[1. 1.]\n",
            "[1. 1.]\n",
            "[1. 1.]\n",
            "[1. 1.]\n",
            "[1. 1.]\n",
            "[1. 1.]\n",
            "[1. 1.]\n",
            "[1. 1.]\n",
            "[1. 1.]\n",
            "[1. 1.]\n",
            "[1. 1.]\n",
            "[1. 1.]\n",
            "[1. 1.]\n",
            "[1. 1.]\n",
            "[1. 1.]\n",
            "[1. 1.]\n",
            "[1. 1.]\n",
            "[1. 1.]\n",
            "[1. 1.]\n",
            "[1. 1.]\n",
            "[1. 1.]\n",
            "[1. 1.]\n",
            "[1. 1.]\n",
            "[1. 1.]\n",
            "[1. 1.]\n",
            "[1. 1.]\n",
            "[1. 1.]\n",
            "[1. 1.]\n",
            "[1. 1.]\n",
            "[1. 1.]\n",
            "[1. 1.]\n",
            "[1. 1.]\n",
            "[1. 1.]\n",
            "[1. 1.]\n",
            "[1. 1.]\n",
            "[1. 1.]\n",
            "[1. 1.]\n",
            "[1. 1.]\n",
            "[1. 1.]\n",
            "[1. 1.]\n",
            "[1. 1.]\n",
            "[1. 1.]\n",
            "[1. 1.]\n",
            "[1. 1.]\n",
            "[1. 1.]\n",
            "[1. 1.]\n",
            "[1. 1.]\n",
            "[1. 1.]\n",
            "[1. 1.]\n",
            "[1. 1.]\n",
            "[1. 1.]\n",
            "[1. 1.]\n",
            "[1. 1.]\n",
            "[1. 1.]\n",
            "[1. 1.]\n",
            "[1. 1.]\n",
            "[1. 1.]\n",
            "[1. 1.]\n",
            "[1. 1.]\n",
            "[1. 1.]\n",
            "[1. 1.]\n",
            "[1. 1.]\n",
            "[1. 1.]\n",
            "[1. 1.]\n",
            "[1. 1.]\n",
            "[1. 1.]\n",
            "[1. 1.]\n",
            "[1. 1.]\n",
            "[1. 1.]\n",
            "[1. 1.]\n",
            "[1. 1.]\n",
            "[1. 1.]\n",
            "[1. 1.]\n",
            "[1. 1.]\n",
            "[1. 1.]\n",
            "[1. 1.]\n",
            "[1. 1.]\n",
            "[1. 1.]\n",
            "[1. 1.]\n",
            "[1. 1.]\n",
            "[1. 1. 1. 1. 1. 1. 1. 1. 1. 1. 1. 1. 0. 0. 1. 1. 1. 1. 1. 1. 1. 1. 1. 1.\n",
            " 1. 1. 1. 1. 1. 1. 1. 1. 1. 1. 1. 1. 1. 1. 0. 0. 1. 1. 1. 1. 0. 0. 1. 1.\n",
            " 1. 1. 1. 1. 1. 1. 0. 0. 1. 1. 0. 0. 1. 1. 1. 1. 1. 1. 1. 1. 1. 1. 0. 0.\n",
            " 1. 1. 1. 1. 1. 1. 1. 1. 1. 1. 1. 1. 1. 1. 1. 1. 0. 0. 1. 1. 0. 0. 0. 0.\n",
            " 1. 1. 0. 0. 0. 0. 0. 0. 1. 1. 1. 1. 1. 1. 1. 1. 1. 1. 1. 1. 0. 0. 1. 1.\n",
            " 1. 1. 1. 1. 1. 1. 1. 1. 1. 1. 1. 1. 1. 1. 1. 1. 1. 1. 1. 1. 1. 1. 1. 1.\n",
            " 1. 1. 1. 1. 1. 1. 1. 1. 1. 1. 1. 1. 1. 1. 1. 1. 1. 1. 1. 1. 1. 1. 1. 1.\n",
            " 1. 1. 1. 1. 1. 1. 1. 1. 1. 1. 1. 1. 1. 1. 0. 0. 1. 1. 0. 0. 1. 1. 1. 1.\n",
            " 0. 0. 1. 1. 0. 0. 1. 1. 1. 1. 0. 0. 1. 1. 1. 1. 1. 1. 1. 1. 0. 0. 1. 1.\n",
            " 1. 1. 1. 1. 1. 1. 1. 1. 1. 1. 1. 1. 1. 1. 1. 1. 1. 1. 1. 1. 0. 0. 0. 0.\n",
            " 1. 1. 1. 1. 1. 1. 1. 1. 0. 0. 1. 1. 1. 1. 0. 0. 0. 0. 1. 1. 1. 1. 1. 1.\n",
            " 1. 1. 1. 1. 1. 1. 1. 1. 1. 1. 0. 0. 1. 1. 1. 1. 1. 1. 1. 1. 1. 1. 1. 1.\n",
            " 0. 0. 1. 1. 1. 1. 1. 1. 1. 1. 1. 1. 1. 1. 1. 1. 1. 1. 1. 1. 0. 0. 1. 1.\n",
            " 1. 1. 0. 0. 1. 1. 1. 1. 1. 1. 1. 1. 1. 1. 1. 1. 1. 1. 1. 1. 1. 1. 0. 0.\n",
            " 1. 1. 1. 1. 1. 1. 1. 1. 1. 1. 1. 1. 1. 1. 1. 1. 1. 1. 1. 1. 1. 1. 1. 1.\n",
            " 1. 1. 1. 1. 1. 1. 1. 1. 0. 0. 1. 1. 1. 1. 1. 1. 1. 1. 0. 0. 0. 0. 1. 1.\n",
            " 1. 1. 0. 0. 0. 0. 1. 1. 1. 1. 1. 1. 1. 1. 1. 1. 1. 1. 0. 0. 1. 1. 1. 1.\n",
            " 0. 0.] \n",
            "\n",
            "[0. 0. 0. 0. 0. 0. 0. 0. 0. 0. 0. 0. 1. 1. 0. 0. 0. 0. 0. 0. 0. 0. 0. 0.\n",
            " 0. 0. 0. 0. 0. 0. 0. 0. 0. 0. 0. 0. 0. 0. 1. 1. 0. 0. 1. 1. 1. 1. 0. 0.\n",
            " 0. 0. 0. 0. 0. 0. 0. 0. 0. 0. 1. 1. 0. 0. 0. 0. 0. 0. 0. 0. 0. 0. 1. 1.\n",
            " 0. 0. 0. 0. 0. 0. 1. 1. 0. 0. 0. 0. 0. 0. 0. 0. 1. 1. 0. 0. 1. 1. 1. 1.\n",
            " 0. 0. 0. 0. 0. 0. 1. 1. 0. 0. 0. 0. 0. 0. 0. 0. 0. 0. 1. 1. 1. 1. 0. 0.\n",
            " 0. 0. 0. 0. 0. 0. 0. 0. 0. 0. 0. 0. 0. 0. 0. 0. 0. 0. 0. 0. 0. 0. 0. 0.\n",
            " 0. 0. 0. 0. 0. 0. 0. 0. 0. 0. 0. 0. 0. 0. 0. 0. 0. 0. 0. 0. 0. 0. 1. 1.\n",
            " 0. 0. 0. 0. 0. 0. 0. 0. 0. 0. 0. 0. 0. 0. 1. 1. 0. 0. 0. 0. 0. 0. 0. 0.\n",
            " 1. 1. 0. 0. 0. 0. 0. 0. 0. 0. 1. 1. 1. 1. 0. 0. 0. 0. 0. 0. 1. 1. 0. 0.\n",
            " 0. 0. 0. 0. 0. 0. 0. 0. 1. 1. 0. 0. 0. 0. 0. 0. 0. 0. 0. 0. 1. 1. 1. 1.\n",
            " 0. 0. 0. 0. 0. 0. 0. 0. 1. 1. 0. 0. 0. 0. 1. 1. 1. 1. 0. 0. 0. 0. 0. 0.\n",
            " 0. 0. 0. 0. 0. 0. 0. 0. 0. 0. 1. 1. 0. 0. 0. 0. 0. 0. 0. 0. 0. 0. 0. 0.\n",
            " 1. 1. 0. 0. 0. 0. 0. 0. 0. 0. 0. 0. 0. 0. 0. 0. 0. 0. 0. 0. 1. 1. 0. 0.\n",
            " 0. 0. 1. 1. 0. 0. 0. 0. 0. 0. 0. 0. 0. 0. 0. 0. 0. 0. 0. 0. 0. 0. 0. 0.\n",
            " 0. 0. 0. 0. 0. 0. 0. 0. 0. 0. 0. 0. 0. 0. 0. 0. 1. 1. 0. 0. 0. 0. 0. 0.\n",
            " 0. 0. 0. 0. 0. 0. 0. 0. 1. 1. 0. 0. 0. 0. 0. 0. 0. 0. 1. 1. 1. 1. 0. 0.\n",
            " 0. 0. 1. 1. 1. 1. 0. 0. 0. 0. 1. 1. 0. 0. 0. 0. 0. 0. 1. 1. 0. 0. 0. 0.\n",
            " 0. 0.]\n",
            "\n",
            "\n",
            " Confusion matrix:\n",
            "[[ 14  58]\n",
            " [322  16]]\n"
          ]
        }
      ]
    }
  ],
  "metadata": {
    "kernelspec": {
      "display_name": "Python 3",
      "language": "python",
      "name": "python3"
    },
    "language_info": {
      "codemirror_mode": {
        "name": "ipython",
        "version": 3
      },
      "file_extension": ".py",
      "mimetype": "text/x-python",
      "name": "python",
      "nbconvert_exporter": "python",
      "pygments_lexer": "ipython3",
      "version": "3.7.6"
    },
    "papermill": {
      "duration": 163.388087,
      "end_time": "2021-01-13T19:06:40.018519",
      "environment_variables": {},
      "exception": null,
      "input_path": "__notebook__.ipynb",
      "output_path": "__notebook__.ipynb",
      "parameters": {},
      "start_time": "2021-01-13T19:03:56.630432",
      "version": "2.1.0"
    },
    "colab": {
      "name": "Brain_Tumour_Detection_and_Classification______Dataset type three.ipynb",
      "provenance": []
    },
    "accelerator": "GPU"
  },
  "nbformat": 4,
  "nbformat_minor": 0
}