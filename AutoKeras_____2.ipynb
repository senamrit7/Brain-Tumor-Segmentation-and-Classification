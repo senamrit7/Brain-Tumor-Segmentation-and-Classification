{
  "nbformat": 4,
  "nbformat_minor": 0,
  "metadata": {
    "colab": {
      "name": "AutoKeras.ipynb",
      "provenance": []
    },
    "kernelspec": {
      "name": "python3",
      "display_name": "Python 3"
    },
    "language_info": {
      "name": "python"
    },
    "accelerator": "GPU",
    "gpuClass": "standard"
  },
  "cells": [
    {
      "cell_type": "code",
      "execution_count": 1,
      "metadata": {
        "colab": {
          "base_uri": "https://localhost:8080/"
        },
        "id": "VNjftViM0KLg",
        "outputId": "b4b18416-7e75-4ad8-94ef-64ba6815c928"
      },
      "outputs": [
        {
          "output_type": "stream",
          "name": "stdout",
          "text": [
            "Looking in indexes: https://pypi.org/simple, https://us-python.pkg.dev/colab-wheels/public/simple/\n",
            "Collecting autokeras\n",
            "  Downloading autokeras-1.0.19-py3-none-any.whl (162 kB)\n",
            "\u001b[K     |████████████████████████████████| 162 kB 4.2 MB/s \n",
            "\u001b[?25hRequirement already satisfied: tensorflow>=2.8.0 in /usr/local/lib/python3.7/dist-packages (from autokeras) (2.8.2+zzzcolab20220527125636)\n",
            "Collecting keras-tuner>=1.1.0\n",
            "  Downloading keras_tuner-1.1.2-py3-none-any.whl (133 kB)\n",
            "\u001b[K     |████████████████████████████████| 133 kB 66.9 MB/s \n",
            "\u001b[?25hRequirement already satisfied: packaging in /usr/local/lib/python3.7/dist-packages (from autokeras) (21.3)\n",
            "Requirement already satisfied: pandas in /usr/local/lib/python3.7/dist-packages (from autokeras) (1.3.5)\n",
            "Requirement already satisfied: numpy in /usr/local/lib/python3.7/dist-packages (from keras-tuner>=1.1.0->autokeras) (1.21.6)\n",
            "Requirement already satisfied: requests in /usr/local/lib/python3.7/dist-packages (from keras-tuner>=1.1.0->autokeras) (2.23.0)\n",
            "Collecting kt-legacy\n",
            "  Downloading kt_legacy-1.0.4-py3-none-any.whl (9.6 kB)\n",
            "Requirement already satisfied: ipython in /usr/local/lib/python3.7/dist-packages (from keras-tuner>=1.1.0->autokeras) (5.5.0)\n",
            "Requirement already satisfied: tensorboard in /usr/local/lib/python3.7/dist-packages (from keras-tuner>=1.1.0->autokeras) (2.8.0)\n",
            "Requirement already satisfied: keras<2.9,>=2.8.0rc0 in /usr/local/lib/python3.7/dist-packages (from tensorflow>=2.8.0->autokeras) (2.8.0)\n",
            "Requirement already satisfied: typing-extensions>=3.6.6 in /usr/local/lib/python3.7/dist-packages (from tensorflow>=2.8.0->autokeras) (4.1.1)\n",
            "Requirement already satisfied: google-pasta>=0.1.1 in /usr/local/lib/python3.7/dist-packages (from tensorflow>=2.8.0->autokeras) (0.2.0)\n",
            "Requirement already satisfied: h5py>=2.9.0 in /usr/local/lib/python3.7/dist-packages (from tensorflow>=2.8.0->autokeras) (3.1.0)\n",
            "Requirement already satisfied: tensorflow-estimator<2.9,>=2.8 in /usr/local/lib/python3.7/dist-packages (from tensorflow>=2.8.0->autokeras) (2.8.0)\n",
            "Requirement already satisfied: opt-einsum>=2.3.2 in /usr/local/lib/python3.7/dist-packages (from tensorflow>=2.8.0->autokeras) (3.3.0)\n",
            "Requirement already satisfied: gast>=0.2.1 in /usr/local/lib/python3.7/dist-packages (from tensorflow>=2.8.0->autokeras) (0.5.3)\n",
            "Requirement already satisfied: wrapt>=1.11.0 in /usr/local/lib/python3.7/dist-packages (from tensorflow>=2.8.0->autokeras) (1.14.1)\n",
            "Requirement already satisfied: absl-py>=0.4.0 in /usr/local/lib/python3.7/dist-packages (from tensorflow>=2.8.0->autokeras) (1.1.0)\n",
            "Requirement already satisfied: protobuf<3.20,>=3.9.2 in /usr/local/lib/python3.7/dist-packages (from tensorflow>=2.8.0->autokeras) (3.17.3)\n",
            "Requirement already satisfied: flatbuffers>=1.12 in /usr/local/lib/python3.7/dist-packages (from tensorflow>=2.8.0->autokeras) (2.0)\n",
            "Requirement already satisfied: keras-preprocessing>=1.1.1 in /usr/local/lib/python3.7/dist-packages (from tensorflow>=2.8.0->autokeras) (1.1.2)\n",
            "Requirement already satisfied: setuptools in /usr/local/lib/python3.7/dist-packages (from tensorflow>=2.8.0->autokeras) (57.4.0)\n",
            "Requirement already satisfied: grpcio<2.0,>=1.24.3 in /usr/local/lib/python3.7/dist-packages (from tensorflow>=2.8.0->autokeras) (1.46.3)\n",
            "Requirement already satisfied: termcolor>=1.1.0 in /usr/local/lib/python3.7/dist-packages (from tensorflow>=2.8.0->autokeras) (1.1.0)\n",
            "Requirement already satisfied: libclang>=9.0.1 in /usr/local/lib/python3.7/dist-packages (from tensorflow>=2.8.0->autokeras) (14.0.1)\n",
            "Requirement already satisfied: tensorflow-io-gcs-filesystem>=0.23.1 in /usr/local/lib/python3.7/dist-packages (from tensorflow>=2.8.0->autokeras) (0.26.0)\n",
            "Requirement already satisfied: six>=1.12.0 in /usr/local/lib/python3.7/dist-packages (from tensorflow>=2.8.0->autokeras) (1.15.0)\n",
            "Requirement already satisfied: astunparse>=1.6.0 in /usr/local/lib/python3.7/dist-packages (from tensorflow>=2.8.0->autokeras) (1.6.3)\n",
            "Requirement already satisfied: wheel<1.0,>=0.23.0 in /usr/local/lib/python3.7/dist-packages (from astunparse>=1.6.0->tensorflow>=2.8.0->autokeras) (0.37.1)\n",
            "Requirement already satisfied: cached-property in /usr/local/lib/python3.7/dist-packages (from h5py>=2.9.0->tensorflow>=2.8.0->autokeras) (1.5.2)\n",
            "Requirement already satisfied: google-auth-oauthlib<0.5,>=0.4.1 in /usr/local/lib/python3.7/dist-packages (from tensorboard->keras-tuner>=1.1.0->autokeras) (0.4.6)\n",
            "Requirement already satisfied: werkzeug>=0.11.15 in /usr/local/lib/python3.7/dist-packages (from tensorboard->keras-tuner>=1.1.0->autokeras) (1.0.1)\n",
            "Requirement already satisfied: google-auth<3,>=1.6.3 in /usr/local/lib/python3.7/dist-packages (from tensorboard->keras-tuner>=1.1.0->autokeras) (1.35.0)\n",
            "Requirement already satisfied: markdown>=2.6.8 in /usr/local/lib/python3.7/dist-packages (from tensorboard->keras-tuner>=1.1.0->autokeras) (3.3.7)\n",
            "Requirement already satisfied: tensorboard-data-server<0.7.0,>=0.6.0 in /usr/local/lib/python3.7/dist-packages (from tensorboard->keras-tuner>=1.1.0->autokeras) (0.6.1)\n",
            "Requirement already satisfied: tensorboard-plugin-wit>=1.6.0 in /usr/local/lib/python3.7/dist-packages (from tensorboard->keras-tuner>=1.1.0->autokeras) (1.8.1)\n",
            "Requirement already satisfied: pyasn1-modules>=0.2.1 in /usr/local/lib/python3.7/dist-packages (from google-auth<3,>=1.6.3->tensorboard->keras-tuner>=1.1.0->autokeras) (0.2.8)\n",
            "Requirement already satisfied: rsa<5,>=3.1.4 in /usr/local/lib/python3.7/dist-packages (from google-auth<3,>=1.6.3->tensorboard->keras-tuner>=1.1.0->autokeras) (4.8)\n",
            "Requirement already satisfied: cachetools<5.0,>=2.0.0 in /usr/local/lib/python3.7/dist-packages (from google-auth<3,>=1.6.3->tensorboard->keras-tuner>=1.1.0->autokeras) (4.2.4)\n",
            "Requirement already satisfied: requests-oauthlib>=0.7.0 in /usr/local/lib/python3.7/dist-packages (from google-auth-oauthlib<0.5,>=0.4.1->tensorboard->keras-tuner>=1.1.0->autokeras) (1.3.1)\n",
            "Requirement already satisfied: importlib-metadata>=4.4 in /usr/local/lib/python3.7/dist-packages (from markdown>=2.6.8->tensorboard->keras-tuner>=1.1.0->autokeras) (4.11.4)\n",
            "Requirement already satisfied: zipp>=0.5 in /usr/local/lib/python3.7/dist-packages (from importlib-metadata>=4.4->markdown>=2.6.8->tensorboard->keras-tuner>=1.1.0->autokeras) (3.8.0)\n",
            "Requirement already satisfied: pyasn1<0.5.0,>=0.4.6 in /usr/local/lib/python3.7/dist-packages (from pyasn1-modules>=0.2.1->google-auth<3,>=1.6.3->tensorboard->keras-tuner>=1.1.0->autokeras) (0.4.8)\n",
            "Requirement already satisfied: certifi>=2017.4.17 in /usr/local/lib/python3.7/dist-packages (from requests->keras-tuner>=1.1.0->autokeras) (2022.6.15)\n",
            "Requirement already satisfied: idna<3,>=2.5 in /usr/local/lib/python3.7/dist-packages (from requests->keras-tuner>=1.1.0->autokeras) (2.10)\n",
            "Requirement already satisfied: chardet<4,>=3.0.2 in /usr/local/lib/python3.7/dist-packages (from requests->keras-tuner>=1.1.0->autokeras) (3.0.4)\n",
            "Requirement already satisfied: urllib3!=1.25.0,!=1.25.1,<1.26,>=1.21.1 in /usr/local/lib/python3.7/dist-packages (from requests->keras-tuner>=1.1.0->autokeras) (1.24.3)\n",
            "Requirement already satisfied: oauthlib>=3.0.0 in /usr/local/lib/python3.7/dist-packages (from requests-oauthlib>=0.7.0->google-auth-oauthlib<0.5,>=0.4.1->tensorboard->keras-tuner>=1.1.0->autokeras) (3.2.0)\n",
            "Requirement already satisfied: pexpect in /usr/local/lib/python3.7/dist-packages (from ipython->keras-tuner>=1.1.0->autokeras) (4.8.0)\n",
            "Requirement already satisfied: pickleshare in /usr/local/lib/python3.7/dist-packages (from ipython->keras-tuner>=1.1.0->autokeras) (0.7.5)\n",
            "Requirement already satisfied: prompt-toolkit<2.0.0,>=1.0.4 in /usr/local/lib/python3.7/dist-packages (from ipython->keras-tuner>=1.1.0->autokeras) (1.0.18)\n",
            "Requirement already satisfied: decorator in /usr/local/lib/python3.7/dist-packages (from ipython->keras-tuner>=1.1.0->autokeras) (4.4.2)\n",
            "Requirement already satisfied: traitlets>=4.2 in /usr/local/lib/python3.7/dist-packages (from ipython->keras-tuner>=1.1.0->autokeras) (5.1.1)\n",
            "Requirement already satisfied: pygments in /usr/local/lib/python3.7/dist-packages (from ipython->keras-tuner>=1.1.0->autokeras) (2.6.1)\n",
            "Requirement already satisfied: simplegeneric>0.8 in /usr/local/lib/python3.7/dist-packages (from ipython->keras-tuner>=1.1.0->autokeras) (0.8.1)\n",
            "Requirement already satisfied: wcwidth in /usr/local/lib/python3.7/dist-packages (from prompt-toolkit<2.0.0,>=1.0.4->ipython->keras-tuner>=1.1.0->autokeras) (0.2.5)\n",
            "Requirement already satisfied: pyparsing!=3.0.5,>=2.0.2 in /usr/local/lib/python3.7/dist-packages (from packaging->autokeras) (3.0.9)\n",
            "Requirement already satisfied: pytz>=2017.3 in /usr/local/lib/python3.7/dist-packages (from pandas->autokeras) (2022.1)\n",
            "Requirement already satisfied: python-dateutil>=2.7.3 in /usr/local/lib/python3.7/dist-packages (from pandas->autokeras) (2.8.2)\n",
            "Requirement already satisfied: ptyprocess>=0.5 in /usr/local/lib/python3.7/dist-packages (from pexpect->ipython->keras-tuner>=1.1.0->autokeras) (0.7.0)\n",
            "Installing collected packages: kt-legacy, keras-tuner, autokeras\n",
            "Successfully installed autokeras-1.0.19 keras-tuner-1.1.2 kt-legacy-1.0.4\n"
          ]
        }
      ],
      "source": [
        "!pip install autokeras"
      ]
    },
    {
      "cell_type": "code",
      "source": [
        "import numpy as np\n",
        "import tensorflow as tf\n",
        "from tensorflow.keras.datasets import mnist\n",
        "from tensorflow.python.keras.utils.data_utils import Sequence\n",
        "import autokeras as ak"
      ],
      "metadata": {
        "id": "aPfZMWlC0P7J"
      },
      "execution_count": 2,
      "outputs": []
    },
    {
      "cell_type": "code",
      "source": [
        ""
      ],
      "metadata": {
        "id": "rCvL9qqXOITs"
      },
      "execution_count": null,
      "outputs": []
    },
    {
      "cell_type": "code",
      "source": [
        "import numpy as np\n",
        "import pandas as pd\n",
        "import os\n",
        "import keras \n",
        "from keras.models import Sequential\n",
        "from keras.layers import Conv2D, MaxPooling2D, Flatten, Dense, Dropout, BatchNormalization\n",
        "from PIL import Image\n",
        "import matplotlib.pyplot as plt\n",
        "from sklearn.model_selection import train_test_split\n",
        "from sklearn.preprocessing import OneHotEncoder "
      ],
      "metadata": {
        "id": "lN2jA0J4OHzB"
      },
      "execution_count": 16,
      "outputs": []
    },
    {
      "cell_type": "code",
      "source": [
        "from google.colab import drive\n",
        "drive.mount('/content/drive')"
      ],
      "metadata": {
        "colab": {
          "base_uri": "https://localhost:8080/"
        },
        "id": "6meGq7y1N6Fq",
        "outputId": "41b9c9d2-b242-4a24-9bb9-19d970adab21"
      },
      "execution_count": 14,
      "outputs": [
        {
          "output_type": "stream",
          "name": "stdout",
          "text": [
            "Mounted at /content/drive\n"
          ]
        }
      ]
    },
    {
      "cell_type": "code",
      "source": [
        "%cd /content/drive/My Drive/Colab Notebooks/"
      ],
      "metadata": {
        "colab": {
          "base_uri": "https://localhost:8080/"
        },
        "id": "hHq6HVdIN_N-",
        "outputId": "36b9e857-e667-4a35-f1aa-dcff3f0f7cd4"
      },
      "execution_count": 15,
      "outputs": [
        {
          "output_type": "stream",
          "name": "stdout",
          "text": [
            "/content/drive/My Drive/Colab Notebooks\n"
          ]
        }
      ]
    },
    {
      "cell_type": "code",
      "source": [
        "encoder = OneHotEncoder()\n",
        "encoder.fit([[0], [1]]) "
      ],
      "metadata": {
        "colab": {
          "base_uri": "https://localhost:8080/"
        },
        "id": "w7NGtf3pOAx1",
        "outputId": "f99e0009-92bb-4c30-f6e8-c100bb1471c3"
      },
      "execution_count": 80,
      "outputs": [
        {
          "output_type": "execute_result",
          "data": {
            "text/plain": [
              "OneHotEncoder()"
            ]
          },
          "metadata": {},
          "execution_count": 80
        }
      ]
    },
    {
      "cell_type": "code",
      "source": [
        "imageData = [] # Stores images as numpy arrays\n",
        "paths = [] # stores path of all the images\n",
        "encodedResult = [] # stores encoded format of target class (0 or 1) for all the images\n",
        "\n",
        "for r, _, f in os.walk(r'/content/drive/My Drive/Colab Notebooks/BTD/brain_tumor_dataset/yes'):\n",
        "    for file in f:\n",
        "        if '.jpg' in file:\n",
        "            paths.append(os.path.join(r, file))\n",
        "\n",
        "for path in paths:\n",
        "    img = Image.open(path)\n",
        "    img = img.resize((128,128))\n",
        "    img = np.array(img)\n",
        "    if(img.shape == (128,128,3)):\n",
        "        imageData.append(np.array(img))\n",
        "        encodedResult.append(encoder.transform([[0]]).toarray())"
      ],
      "metadata": {
        "id": "b9AGxiHRN3pV"
      },
      "execution_count": 81,
      "outputs": []
    },
    {
      "cell_type": "code",
      "source": [
        "paths = []\n",
        "for r, _, f in os.walk(r\"/content/drive/My Drive/Colab Notebooks/BTD/brain_tumor_dataset/no\"):\n",
        "    for file in f:\n",
        "        if '.jpg' in file:\n",
        "            paths.append(os.path.join(r, file))\n",
        "\n",
        "for path in paths:\n",
        "    img = Image.open(path)\n",
        "    img = img.resize((128,128))\n",
        "    img = np.array(img)\n",
        "    if(img.shape == (128,128,3)):\n",
        "        imageData.append(np.array(img))\n",
        "        encodedResult.append(encoder.transform([[1]]).toarray())"
      ],
      "metadata": {
        "id": "-08jqLOTORhF"
      },
      "execution_count": 82,
      "outputs": []
    },
    {
      "cell_type": "code",
      "source": [
        "np_list = imageData"
      ],
      "metadata": {
        "id": "-TbXCjyXR2nH"
      },
      "execution_count": 83,
      "outputs": []
    },
    {
      "cell_type": "code",
      "source": [
        "imageData = np.array(imageData)\n",
        "imageData.shape"
      ],
      "metadata": {
        "colab": {
          "base_uri": "https://localhost:8080/"
        },
        "id": "9b6msOe8OT2J",
        "outputId": "7d5e1aa9-24ee-4f36-edd0-18c04a4df886"
      },
      "execution_count": 84,
      "outputs": [
        {
          "output_type": "execute_result",
          "data": {
            "text/plain": [
              "(139, 128, 128, 3)"
            ]
          },
          "metadata": {},
          "execution_count": 84
        }
      ]
    },
    {
      "cell_type": "code",
      "source": [
        "imageData = imageData/255\n",
        "imageData"
      ],
      "metadata": {
        "colab": {
          "base_uri": "https://localhost:8080/"
        },
        "id": "e6YMP1c6SEAb",
        "outputId": "dba69912-856c-40de-b729-f8f7b3b53cb6"
      },
      "execution_count": 85,
      "outputs": [
        {
          "output_type": "execute_result",
          "data": {
            "text/plain": [
              "array([[[[0.01176471, 0.01176471, 0.01176471],\n",
              "         [0.02352941, 0.02352941, 0.02352941],\n",
              "         [0.01568627, 0.01568627, 0.01568627],\n",
              "         ...,\n",
              "         [0.00784314, 0.00784314, 0.00784314],\n",
              "         [0.        , 0.        , 0.        ],\n",
              "         [0.        , 0.        , 0.        ]],\n",
              "\n",
              "        [[0.02352941, 0.02352941, 0.02352941],\n",
              "         [0.02745098, 0.02745098, 0.02745098],\n",
              "         [0.01568627, 0.01568627, 0.01568627],\n",
              "         ...,\n",
              "         [0.00784314, 0.00784314, 0.00784314],\n",
              "         [0.        , 0.        , 0.        ],\n",
              "         [0.        , 0.        , 0.        ]],\n",
              "\n",
              "        [[0.01960784, 0.01960784, 0.01960784],\n",
              "         [0.01568627, 0.01568627, 0.01568627],\n",
              "         [0.02352941, 0.02352941, 0.02352941],\n",
              "         ...,\n",
              "         [0.00392157, 0.00392157, 0.00392157],\n",
              "         [0.        , 0.        , 0.        ],\n",
              "         [0.        , 0.        , 0.        ]],\n",
              "\n",
              "        ...,\n",
              "\n",
              "        [[0.00784314, 0.00784314, 0.00784314],\n",
              "         [0.02352941, 0.02352941, 0.02352941],\n",
              "         [0.01568627, 0.01568627, 0.01568627],\n",
              "         ...,\n",
              "         [0.00392157, 0.00392157, 0.00392157],\n",
              "         [0.        , 0.        , 0.        ],\n",
              "         [0.        , 0.        , 0.        ]],\n",
              "\n",
              "        [[0.01176471, 0.01176471, 0.01176471],\n",
              "         [0.02352941, 0.02352941, 0.02352941],\n",
              "         [0.01568627, 0.01568627, 0.01568627],\n",
              "         ...,\n",
              "         [0.        , 0.        , 0.        ],\n",
              "         [0.        , 0.        , 0.        ],\n",
              "         [0.        , 0.        , 0.        ]],\n",
              "\n",
              "        [[0.01960784, 0.01960784, 0.01960784],\n",
              "         [0.02352941, 0.02352941, 0.02352941],\n",
              "         [0.01960784, 0.01960784, 0.01960784],\n",
              "         ...,\n",
              "         [0.00392157, 0.00392157, 0.00392157],\n",
              "         [0.        , 0.        , 0.        ],\n",
              "         [0.        , 0.        , 0.        ]]],\n",
              "\n",
              "\n",
              "       [[[0.85490196, 0.85490196, 0.85490196],\n",
              "         [0.34117647, 0.34117647, 0.34117647],\n",
              "         [0.24705882, 0.24705882, 0.24705882],\n",
              "         ...,\n",
              "         [0.25882353, 0.25882353, 0.25882353],\n",
              "         [0.25882353, 0.25882353, 0.25882353],\n",
              "         [0.25882353, 0.25882353, 0.25882353]],\n",
              "\n",
              "        [[0.80784314, 0.80784314, 0.80784314],\n",
              "         [0.1254902 , 0.1254902 , 0.1254902 ],\n",
              "         [0.        , 0.        , 0.        ],\n",
              "         ...,\n",
              "         [0.01568627, 0.01568627, 0.01568627],\n",
              "         [0.01568627, 0.01568627, 0.01568627],\n",
              "         [0.01176471, 0.01176471, 0.01176471]],\n",
              "\n",
              "        [[0.81176471, 0.81176471, 0.81176471],\n",
              "         [0.14509804, 0.14509804, 0.14509804],\n",
              "         [0.02352941, 0.02352941, 0.02352941],\n",
              "         ...,\n",
              "         [0.03529412, 0.03529412, 0.03529412],\n",
              "         [0.03529412, 0.03529412, 0.03529412],\n",
              "         [0.03137255, 0.03137255, 0.03137255]],\n",
              "\n",
              "        ...,\n",
              "\n",
              "        [[0.81176471, 0.81176471, 0.81176471],\n",
              "         [0.14901961, 0.14901961, 0.14901961],\n",
              "         [0.02352941, 0.02352941, 0.02352941],\n",
              "         ...,\n",
              "         [0.03529412, 0.03529412, 0.03529412],\n",
              "         [0.03529412, 0.03529412, 0.03529412],\n",
              "         [0.03529412, 0.03529412, 0.03529412]],\n",
              "\n",
              "        [[0.81176471, 0.81176471, 0.81176471],\n",
              "         [0.14509804, 0.14509804, 0.14509804],\n",
              "         [0.02352941, 0.02352941, 0.02352941],\n",
              "         ...,\n",
              "         [0.03529412, 0.03529412, 0.03529412],\n",
              "         [0.03529412, 0.03529412, 0.03529412],\n",
              "         [0.03529412, 0.03529412, 0.03529412]],\n",
              "\n",
              "        [[0.81176471, 0.81176471, 0.81176471],\n",
              "         [0.14901961, 0.14901961, 0.14901961],\n",
              "         [0.02352941, 0.02352941, 0.02352941],\n",
              "         ...,\n",
              "         [0.03529412, 0.03529412, 0.03529412],\n",
              "         [0.03529412, 0.03529412, 0.03529412],\n",
              "         [0.03529412, 0.03529412, 0.03529412]]],\n",
              "\n",
              "\n",
              "       [[[0.05490196, 0.05490196, 0.05490196],\n",
              "         [0.05490196, 0.05490196, 0.05490196],\n",
              "         [0.05490196, 0.05490196, 0.05490196],\n",
              "         ...,\n",
              "         [0.37254902, 0.37254902, 0.37254902],\n",
              "         [0.11764706, 0.11764706, 0.11764706],\n",
              "         [0.05098039, 0.05098039, 0.05098039]],\n",
              "\n",
              "        [[0.05490196, 0.05490196, 0.05490196],\n",
              "         [0.05490196, 0.05490196, 0.05490196],\n",
              "         [0.05490196, 0.05490196, 0.05490196],\n",
              "         ...,\n",
              "         [0.45882353, 0.45882353, 0.45882353],\n",
              "         [0.09803922, 0.09803922, 0.09803922],\n",
              "         [0.03529412, 0.03529412, 0.03529412]],\n",
              "\n",
              "        [[0.05490196, 0.05490196, 0.05490196],\n",
              "         [0.05490196, 0.05490196, 0.05490196],\n",
              "         [0.05490196, 0.05490196, 0.05490196],\n",
              "         ...,\n",
              "         [0.21960784, 0.21960784, 0.21960784],\n",
              "         [0.03921569, 0.03921569, 0.03921569],\n",
              "         [0.03921569, 0.03921569, 0.03921569]],\n",
              "\n",
              "        ...,\n",
              "\n",
              "        [[0.04313725, 0.04313725, 0.04313725],\n",
              "         [0.04313725, 0.04313725, 0.04313725],\n",
              "         [0.04313725, 0.04313725, 0.04313725],\n",
              "         ...,\n",
              "         [0.04313725, 0.04313725, 0.04313725],\n",
              "         [0.04313725, 0.04313725, 0.04313725],\n",
              "         [0.04313725, 0.04313725, 0.04313725]],\n",
              "\n",
              "        [[0.04705882, 0.04705882, 0.04705882],\n",
              "         [0.04705882, 0.04705882, 0.04705882],\n",
              "         [0.04705882, 0.04705882, 0.04705882],\n",
              "         ...,\n",
              "         [0.04313725, 0.04313725, 0.04313725],\n",
              "         [0.04313725, 0.04313725, 0.04313725],\n",
              "         [0.04313725, 0.04313725, 0.04313725]],\n",
              "\n",
              "        [[0.04705882, 0.04705882, 0.04705882],\n",
              "         [0.04705882, 0.04705882, 0.04705882],\n",
              "         [0.04705882, 0.04705882, 0.04705882],\n",
              "         ...,\n",
              "         [0.04313725, 0.04313725, 0.04313725],\n",
              "         [0.04313725, 0.04313725, 0.04313725],\n",
              "         [0.04313725, 0.04313725, 0.04313725]]],\n",
              "\n",
              "\n",
              "       ...,\n",
              "\n",
              "\n",
              "       [[[0.        , 0.        , 0.        ],\n",
              "         [0.        , 0.        , 0.        ],\n",
              "         [0.        , 0.        , 0.        ],\n",
              "         ...,\n",
              "         [0.        , 0.        , 0.        ],\n",
              "         [0.        , 0.        , 0.        ],\n",
              "         [0.        , 0.        , 0.        ]],\n",
              "\n",
              "        [[0.        , 0.        , 0.        ],\n",
              "         [0.        , 0.        , 0.        ],\n",
              "         [0.        , 0.        , 0.        ],\n",
              "         ...,\n",
              "         [0.        , 0.        , 0.        ],\n",
              "         [0.        , 0.        , 0.        ],\n",
              "         [0.        , 0.        , 0.        ]],\n",
              "\n",
              "        [[0.        , 0.        , 0.        ],\n",
              "         [0.        , 0.        , 0.        ],\n",
              "         [0.        , 0.        , 0.        ],\n",
              "         ...,\n",
              "         [0.        , 0.        , 0.        ],\n",
              "         [0.        , 0.        , 0.        ],\n",
              "         [0.        , 0.        , 0.        ]],\n",
              "\n",
              "        ...,\n",
              "\n",
              "        [[0.        , 0.        , 0.        ],\n",
              "         [0.        , 0.        , 0.        ],\n",
              "         [0.        , 0.        , 0.        ],\n",
              "         ...,\n",
              "         [0.        , 0.        , 0.        ],\n",
              "         [0.        , 0.        , 0.        ],\n",
              "         [0.        , 0.        , 0.        ]],\n",
              "\n",
              "        [[0.        , 0.        , 0.        ],\n",
              "         [0.        , 0.        , 0.        ],\n",
              "         [0.        , 0.        , 0.        ],\n",
              "         ...,\n",
              "         [0.        , 0.        , 0.        ],\n",
              "         [0.        , 0.        , 0.        ],\n",
              "         [0.        , 0.        , 0.        ]],\n",
              "\n",
              "        [[0.        , 0.        , 0.        ],\n",
              "         [0.        , 0.        , 0.        ],\n",
              "         [0.        , 0.        , 0.        ],\n",
              "         ...,\n",
              "         [0.        , 0.        , 0.        ],\n",
              "         [0.        , 0.        , 0.        ],\n",
              "         [0.        , 0.        , 0.        ]]],\n",
              "\n",
              "\n",
              "       [[[0.23137255, 0.23137255, 0.23137255],\n",
              "         [0.21568627, 0.21568627, 0.21568627],\n",
              "         [0.21568627, 0.21568627, 0.21568627],\n",
              "         ...,\n",
              "         [0.21568627, 0.21568627, 0.21568627],\n",
              "         [0.21568627, 0.21568627, 0.21568627],\n",
              "         [0.23137255, 0.22745098, 0.23137255]],\n",
              "\n",
              "        [[0.00784314, 0.00784314, 0.00784314],\n",
              "         [0.        , 0.        , 0.        ],\n",
              "         [0.        , 0.        , 0.        ],\n",
              "         ...,\n",
              "         [0.        , 0.        , 0.        ],\n",
              "         [0.        , 0.        , 0.        ],\n",
              "         [0.01176471, 0.00784314, 0.00784314]],\n",
              "\n",
              "        [[0.02745098, 0.02745098, 0.02745098],\n",
              "         [0.        , 0.        , 0.        ],\n",
              "         [0.        , 0.        , 0.        ],\n",
              "         ...,\n",
              "         [0.        , 0.        , 0.        ],\n",
              "         [0.        , 0.        , 0.        ],\n",
              "         [0.02745098, 0.02745098, 0.02745098]],\n",
              "\n",
              "        ...,\n",
              "\n",
              "        [[0.02745098, 0.02745098, 0.02745098],\n",
              "         [0.        , 0.        , 0.        ],\n",
              "         [0.        , 0.        , 0.        ],\n",
              "         ...,\n",
              "         [0.        , 0.        , 0.        ],\n",
              "         [0.        , 0.        , 0.        ],\n",
              "         [0.02745098, 0.02352941, 0.02745098]],\n",
              "\n",
              "        [[0.01176471, 0.01176471, 0.01176471],\n",
              "         [0.        , 0.        , 0.        ],\n",
              "         [0.        , 0.        , 0.        ],\n",
              "         ...,\n",
              "         [0.        , 0.        , 0.        ],\n",
              "         [0.        , 0.        , 0.        ],\n",
              "         [0.01176471, 0.00784314, 0.01176471]],\n",
              "\n",
              "        [[0.23137255, 0.22745098, 0.23137255],\n",
              "         [0.21568627, 0.21176471, 0.21568627],\n",
              "         [0.21568627, 0.21176471, 0.21568627],\n",
              "         ...,\n",
              "         [0.21568627, 0.21176471, 0.21568627],\n",
              "         [0.21960784, 0.21176471, 0.21568627],\n",
              "         [0.23529412, 0.22745098, 0.23137255]]],\n",
              "\n",
              "\n",
              "       [[[0.02352941, 0.02352941, 0.02352941],\n",
              "         [0.05490196, 0.05490196, 0.05490196],\n",
              "         [0.05098039, 0.05098039, 0.05098039],\n",
              "         ...,\n",
              "         [0.0627451 , 0.0627451 , 0.0627451 ],\n",
              "         [0.05098039, 0.05098039, 0.05098039],\n",
              "         [0.05098039, 0.05098039, 0.05098039]],\n",
              "\n",
              "        [[0.01960784, 0.01960784, 0.01960784],\n",
              "         [0.04705882, 0.04705882, 0.04705882],\n",
              "         [0.05098039, 0.05098039, 0.05098039],\n",
              "         ...,\n",
              "         [0.05490196, 0.05490196, 0.05490196],\n",
              "         [0.05098039, 0.05098039, 0.05098039],\n",
              "         [0.05098039, 0.05098039, 0.05098039]],\n",
              "\n",
              "        [[0.01960784, 0.01960784, 0.01960784],\n",
              "         [0.04313725, 0.04313725, 0.04313725],\n",
              "         [0.04705882, 0.04705882, 0.04705882],\n",
              "         ...,\n",
              "         [0.05882353, 0.05882353, 0.05882353],\n",
              "         [0.0627451 , 0.0627451 , 0.0627451 ],\n",
              "         [0.05490196, 0.05490196, 0.05490196]],\n",
              "\n",
              "        ...,\n",
              "\n",
              "        [[0.01960784, 0.01960784, 0.01960784],\n",
              "         [0.03921569, 0.03921569, 0.03921569],\n",
              "         [0.04705882, 0.04705882, 0.04705882],\n",
              "         ...,\n",
              "         [0.05490196, 0.05490196, 0.05490196],\n",
              "         [0.05882353, 0.05882353, 0.05882353],\n",
              "         [0.05490196, 0.05490196, 0.05490196]],\n",
              "\n",
              "        [[0.01960784, 0.01960784, 0.01960784],\n",
              "         [0.04313725, 0.04313725, 0.04313725],\n",
              "         [0.05098039, 0.05098039, 0.05098039],\n",
              "         ...,\n",
              "         [0.05490196, 0.05490196, 0.05490196],\n",
              "         [0.05098039, 0.05098039, 0.05098039],\n",
              "         [0.04705882, 0.04705882, 0.04705882]],\n",
              "\n",
              "        [[0.02745098, 0.02745098, 0.02745098],\n",
              "         [0.05098039, 0.05098039, 0.05098039],\n",
              "         [0.05098039, 0.05098039, 0.05098039],\n",
              "         ...,\n",
              "         [0.04313725, 0.04313725, 0.04313725],\n",
              "         [0.04313725, 0.04313725, 0.04313725],\n",
              "         [0.05098039, 0.05098039, 0.05098039]]]])"
            ]
          },
          "metadata": {},
          "execution_count": 85
        }
      ]
    },
    {
      "cell_type": "code",
      "source": [
        "encodedResult[:5]"
      ],
      "metadata": {
        "colab": {
          "base_uri": "https://localhost:8080/"
        },
        "id": "29hSnYoCWisg",
        "outputId": "10fe99c1-3f12-48aa-b755-a83df6aad94a"
      },
      "execution_count": 86,
      "outputs": [
        {
          "output_type": "execute_result",
          "data": {
            "text/plain": [
              "[array([[1., 0.]]),\n",
              " array([[1., 0.]]),\n",
              " array([[1., 0.]]),\n",
              " array([[1., 0.]]),\n",
              " array([[1., 0.]])]"
            ]
          },
          "metadata": {},
          "execution_count": 86
        }
      ]
    },
    {
      "cell_type": "code",
      "source": [
        "encodedResult = np.array(encodedResult)\n",
        "encodedResult = encodedResult.reshape(139,2)\n",
        "encodedResult[:5]"
      ],
      "metadata": {
        "colab": {
          "base_uri": "https://localhost:8080/"
        },
        "id": "9LZ9qAKAV03m",
        "outputId": "07d59f50-dac6-4f0b-e8f7-32091b3eb4bd"
      },
      "execution_count": 87,
      "outputs": [
        {
          "output_type": "execute_result",
          "data": {
            "text/plain": [
              "array([[1., 0.],\n",
              "       [1., 0.],\n",
              "       [1., 0.],\n",
              "       [1., 0.],\n",
              "       [1., 0.]])"
            ]
          },
          "metadata": {},
          "execution_count": 87
        }
      ]
    },
    {
      "cell_type": "code",
      "source": [
        "new_encodedResult = []\n",
        "for val in encodedResult:\n",
        "  new_encodedResult.append(val[1])\n",
        "new_encodedResult"
      ],
      "metadata": {
        "colab": {
          "base_uri": "https://localhost:8080/"
        },
        "id": "RShr7BZzU2ab",
        "outputId": "a3cd157f-b2ec-451a-c32a-05e15317002a"
      },
      "execution_count": 88,
      "outputs": [
        {
          "output_type": "execute_result",
          "data": {
            "text/plain": [
              "[0.0,\n",
              " 0.0,\n",
              " 0.0,\n",
              " 0.0,\n",
              " 0.0,\n",
              " 0.0,\n",
              " 0.0,\n",
              " 0.0,\n",
              " 0.0,\n",
              " 0.0,\n",
              " 0.0,\n",
              " 0.0,\n",
              " 0.0,\n",
              " 0.0,\n",
              " 0.0,\n",
              " 0.0,\n",
              " 0.0,\n",
              " 0.0,\n",
              " 0.0,\n",
              " 0.0,\n",
              " 0.0,\n",
              " 0.0,\n",
              " 0.0,\n",
              " 0.0,\n",
              " 0.0,\n",
              " 0.0,\n",
              " 0.0,\n",
              " 0.0,\n",
              " 0.0,\n",
              " 0.0,\n",
              " 0.0,\n",
              " 0.0,\n",
              " 0.0,\n",
              " 0.0,\n",
              " 0.0,\n",
              " 0.0,\n",
              " 0.0,\n",
              " 0.0,\n",
              " 0.0,\n",
              " 0.0,\n",
              " 0.0,\n",
              " 0.0,\n",
              " 0.0,\n",
              " 0.0,\n",
              " 0.0,\n",
              " 0.0,\n",
              " 0.0,\n",
              " 0.0,\n",
              " 0.0,\n",
              " 0.0,\n",
              " 0.0,\n",
              " 0.0,\n",
              " 0.0,\n",
              " 0.0,\n",
              " 0.0,\n",
              " 0.0,\n",
              " 0.0,\n",
              " 0.0,\n",
              " 0.0,\n",
              " 0.0,\n",
              " 0.0,\n",
              " 0.0,\n",
              " 0.0,\n",
              " 0.0,\n",
              " 0.0,\n",
              " 0.0,\n",
              " 0.0,\n",
              " 0.0,\n",
              " 0.0,\n",
              " 0.0,\n",
              " 1.0,\n",
              " 1.0,\n",
              " 1.0,\n",
              " 1.0,\n",
              " 1.0,\n",
              " 1.0,\n",
              " 1.0,\n",
              " 1.0,\n",
              " 1.0,\n",
              " 1.0,\n",
              " 1.0,\n",
              " 1.0,\n",
              " 1.0,\n",
              " 1.0,\n",
              " 1.0,\n",
              " 1.0,\n",
              " 1.0,\n",
              " 1.0,\n",
              " 1.0,\n",
              " 1.0,\n",
              " 1.0,\n",
              " 1.0,\n",
              " 1.0,\n",
              " 1.0,\n",
              " 1.0,\n",
              " 1.0,\n",
              " 1.0,\n",
              " 1.0,\n",
              " 1.0,\n",
              " 1.0,\n",
              " 1.0,\n",
              " 1.0,\n",
              " 1.0,\n",
              " 1.0,\n",
              " 1.0,\n",
              " 1.0,\n",
              " 1.0,\n",
              " 1.0,\n",
              " 1.0,\n",
              " 1.0,\n",
              " 1.0,\n",
              " 1.0,\n",
              " 1.0,\n",
              " 1.0,\n",
              " 1.0,\n",
              " 1.0,\n",
              " 1.0,\n",
              " 1.0,\n",
              " 1.0,\n",
              " 1.0,\n",
              " 1.0,\n",
              " 1.0,\n",
              " 1.0,\n",
              " 1.0,\n",
              " 1.0,\n",
              " 1.0,\n",
              " 1.0,\n",
              " 1.0,\n",
              " 1.0,\n",
              " 1.0,\n",
              " 1.0,\n",
              " 1.0,\n",
              " 1.0,\n",
              " 1.0,\n",
              " 1.0,\n",
              " 1.0,\n",
              " 1.0,\n",
              " 1.0,\n",
              " 1.0]"
            ]
          },
          "metadata": {},
          "execution_count": 88
        }
      ]
    },
    {
      "cell_type": "code",
      "source": [
        "new_encodedResult = np.array(new_encodedResult)\n",
        "new_encodedResult"
      ],
      "metadata": {
        "colab": {
          "base_uri": "https://localhost:8080/"
        },
        "id": "fYHl5nloXfAu",
        "outputId": "6bc3430f-0343-4dae-dd12-31b1b7c06e18"
      },
      "execution_count": 89,
      "outputs": [
        {
          "output_type": "execute_result",
          "data": {
            "text/plain": [
              "array([0., 0., 0., 0., 0., 0., 0., 0., 0., 0., 0., 0., 0., 0., 0., 0., 0.,\n",
              "       0., 0., 0., 0., 0., 0., 0., 0., 0., 0., 0., 0., 0., 0., 0., 0., 0.,\n",
              "       0., 0., 0., 0., 0., 0., 0., 0., 0., 0., 0., 0., 0., 0., 0., 0., 0.,\n",
              "       0., 0., 0., 0., 0., 0., 0., 0., 0., 0., 0., 0., 0., 0., 0., 0., 0.,\n",
              "       0., 0., 1., 1., 1., 1., 1., 1., 1., 1., 1., 1., 1., 1., 1., 1., 1.,\n",
              "       1., 1., 1., 1., 1., 1., 1., 1., 1., 1., 1., 1., 1., 1., 1., 1., 1.,\n",
              "       1., 1., 1., 1., 1., 1., 1., 1., 1., 1., 1., 1., 1., 1., 1., 1., 1.,\n",
              "       1., 1., 1., 1., 1., 1., 1., 1., 1., 1., 1., 1., 1., 1., 1., 1., 1.,\n",
              "       1., 1., 1.])"
            ]
          },
          "metadata": {},
          "execution_count": 89
        }
      ]
    },
    {
      "cell_type": "code",
      "source": [
        "# (x_train, y_train), (x_test, y_test) = mnist.load_data()\n",
        "# (x_train, y_train), (x_test, y_test) = train_test_split(imageData, encodedResult, test_size=0.3, shuffle=True, random_state=0)\n",
        "x_train, x_test, y_train, y_test = train_test_split(imageData, new_encodedResult, test_size=0.3, shuffle=True, random_state=0)\n",
        "print(x_train.shape)  # (60000, 28, 28)\n",
        "#print(y_train.shape)  # (60000,)\n",
        "#print(y_train[:3])  # array([7, 2, 1], dtype=uint8)"
      ],
      "metadata": {
        "colab": {
          "base_uri": "https://localhost:8080/"
        },
        "id": "PnPT5Stn1GaS",
        "outputId": "44ede73f-fa8d-49fe-f2a9-b8cb9b9a74fe"
      },
      "execution_count": 90,
      "outputs": [
        {
          "output_type": "stream",
          "name": "stdout",
          "text": [
            "(97, 128, 128, 3)\n"
          ]
        }
      ]
    },
    {
      "cell_type": "code",
      "source": [
        "y_train[:5]"
      ],
      "metadata": {
        "colab": {
          "base_uri": "https://localhost:8080/"
        },
        "id": "3qs2o1r81H90",
        "outputId": "53c99a2f-fa11-47fd-b972-f045b280095d"
      },
      "execution_count": 91,
      "outputs": [
        {
          "output_type": "execute_result",
          "data": {
            "text/plain": [
              "array([1., 1., 1., 0., 0.])"
            ]
          },
          "metadata": {},
          "execution_count": 91
        }
      ]
    },
    {
      "cell_type": "code",
      "source": [
        "y_train.reshape(1,-1)\n",
        "y_train[:5]"
      ],
      "metadata": {
        "colab": {
          "base_uri": "https://localhost:8080/"
        },
        "id": "8b1l4OMVXWDG",
        "outputId": "b4933d2f-8ee6-46ef-9f2f-22e236793293"
      },
      "execution_count": 92,
      "outputs": [
        {
          "output_type": "execute_result",
          "data": {
            "text/plain": [
              "array([1., 1., 1., 0., 0.])"
            ]
          },
          "metadata": {},
          "execution_count": 92
        }
      ]
    },
    {
      "cell_type": "code",
      "source": [
        "# Initialize the image classifier.\n",
        "clf = ak.ImageClassifier(\n",
        "    overwrite=True,\n",
        "    max_trials=1)\n",
        "# Feed the image classifier with training data.\n",
        "history = clf.fit(x_train, y_train, epochs=10)"
      ],
      "metadata": {
        "colab": {
          "base_uri": "https://localhost:8080/"
        },
        "id": "PoCba4Uc1Jgc",
        "outputId": "9f738379-aabe-43d6-f111-7e006ccac80d"
      },
      "execution_count": 93,
      "outputs": [
        {
          "output_type": "stream",
          "name": "stdout",
          "text": [
            "Trial 1 Complete [00h 01m 11s]\n",
            "val_loss: 0.028622636571526527\n",
            "\n",
            "Best val_loss So Far: 0.028622636571526527\n",
            "Total elapsed time: 00h 01m 11s\n",
            "INFO:tensorflow:Oracle triggered exit\n",
            "Epoch 1/10\n",
            "4/4 [==============================] - 6s 1s/step - loss: 2.6190 - accuracy: 0.5052\n",
            "Epoch 2/10\n",
            "4/4 [==============================] - 6s 1s/step - loss: 1.4383 - accuracy: 0.5670\n",
            "Epoch 3/10\n",
            "4/4 [==============================] - 6s 1s/step - loss: 0.5671 - accuracy: 0.6907\n",
            "Epoch 4/10\n",
            "4/4 [==============================] - 6s 1s/step - loss: 0.3499 - accuracy: 0.8969\n",
            "Epoch 5/10\n",
            "4/4 [==============================] - 6s 1s/step - loss: 0.3120 - accuracy: 0.8454\n",
            "Epoch 6/10\n",
            "4/4 [==============================] - 6s 1s/step - loss: 0.2223 - accuracy: 0.9278\n",
            "Epoch 7/10\n",
            "4/4 [==============================] - 7s 2s/step - loss: 0.1593 - accuracy: 0.9485\n",
            "Epoch 8/10\n",
            "4/4 [==============================] - 6s 1s/step - loss: 0.1000 - accuracy: 0.9794\n",
            "Epoch 9/10\n",
            "4/4 [==============================] - 6s 1s/step - loss: 0.0748 - accuracy: 1.0000\n",
            "Epoch 10/10\n",
            "4/4 [==============================] - 6s 1s/step - loss: 0.0497 - accuracy: 1.0000\n",
            "INFO:tensorflow:Assets written to: ./image_classifier/best_model/assets\n"
          ]
        }
      ]
    },
    {
      "cell_type": "code",
      "source": [
        "model = clf.export_model()\n",
        "model.summary()"
      ],
      "metadata": {
        "colab": {
          "base_uri": "https://localhost:8080/"
        },
        "id": "-sEp2YJw1LB3",
        "outputId": "a0074319-2151-45a0-a90e-b0c138f403f6"
      },
      "execution_count": 94,
      "outputs": [
        {
          "output_type": "stream",
          "name": "stdout",
          "text": [
            "Model: \"model\"\n",
            "_________________________________________________________________\n",
            " Layer (type)                Output Shape              Param #   \n",
            "=================================================================\n",
            " input_1 (InputLayer)        [(None, 128, 128, 3)]     0         \n",
            "                                                                 \n",
            " cast_to_float32 (CastToFloa  (None, 128, 128, 3)      0         \n",
            " t32)                                                            \n",
            "                                                                 \n",
            " normalization (Normalizatio  (None, 128, 128, 3)      7         \n",
            " n)                                                              \n",
            "                                                                 \n",
            " conv2d (Conv2D)             (None, 126, 126, 32)      896       \n",
            "                                                                 \n",
            " conv2d_1 (Conv2D)           (None, 124, 124, 64)      18496     \n",
            "                                                                 \n",
            " max_pooling2d (MaxPooling2D  (None, 62, 62, 64)       0         \n",
            " )                                                               \n",
            "                                                                 \n",
            " dropout (Dropout)           (None, 62, 62, 64)        0         \n",
            "                                                                 \n",
            " flatten (Flatten)           (None, 246016)            0         \n",
            "                                                                 \n",
            " dropout_1 (Dropout)         (None, 246016)            0         \n",
            "                                                                 \n",
            " dense (Dense)               (None, 1)                 246017    \n",
            "                                                                 \n",
            " classification_head_1 (Acti  (None, 1)                0         \n",
            " vation)                                                         \n",
            "                                                                 \n",
            "=================================================================\n",
            "Total params: 265,416\n",
            "Trainable params: 265,409\n",
            "Non-trainable params: 7\n",
            "_________________________________________________________________\n"
          ]
        }
      ]
    },
    {
      "cell_type": "code",
      "source": [
        "import matplotlib.pyplot as plt\n",
        "\n",
        "def plotImages(images_arr):\n",
        "    fig, axes = plt.subplots(1, 10, figsize=(20,20))\n",
        "    axes = axes.flatten()\n",
        "    for img, ax in zip( images_arr, axes):\n",
        "        ax.imshow(img)\n",
        "        ax.axis('off')\n",
        "    plt.tight_layout()\n",
        "    plt.show()"
      ],
      "metadata": {
        "id": "TJuOkx_X1NFF"
      },
      "execution_count": 95,
      "outputs": []
    },
    {
      "cell_type": "code",
      "source": [
        "plotImages(x_test[:6])"
      ],
      "metadata": {
        "colab": {
          "base_uri": "https://localhost:8080/",
          "height": 1000
        },
        "id": "tPgXuK201Ojk",
        "outputId": "63a58bb4-59a0-4142-de44-258e68678a44"
      },
      "execution_count": 96,
      "outputs": [
        {
          "output_type": "display_data",
          "data": {
            "text/plain": [
              "<Figure size 1440x1440 with 10 Axes>"
            ],
            "image/png": "[encoded data removed]"
          },
          "metadata": {
            "needs_background": "light"
          }
        }
      ]
    },
    {
      "cell_type": "code",
      "source": [
        "# Predict with the best model.\n",
        "predicted_y = clf.predict(x_test[:6])\n",
        "print(predicted_y)"
      ],
      "metadata": {
        "colab": {
          "base_uri": "https://localhost:8080/"
        },
        "id": "uNC0bnRd1Q-A",
        "outputId": "802c35a9-e886-4ff9-ac33-bfe4a3a33454"
      },
      "execution_count": 97,
      "outputs": [
        {
          "output_type": "stream",
          "name": "stdout",
          "text": [
            "1/1 [==============================] - 0s 99ms/step\n",
            "[[0.]\n",
            " [1.]\n",
            " [1.]\n",
            " [1.]\n",
            " [0.]\n",
            " [1.]]\n"
          ]
        }
      ]
    },
    {
      "cell_type": "code",
      "source": [
        "# Evaluate the best model with testing data.\n",
        "print(clf.evaluate(x_test, y_test))"
      ],
      "metadata": {
        "colab": {
          "base_uri": "https://localhost:8080/"
        },
        "id": "27eDKSZ61TXS",
        "outputId": "c462beb9-d8a9-46ce-c611-9572fcccf732"
      },
      "execution_count": 98,
      "outputs": [
        {
          "output_type": "stream",
          "name": "stdout",
          "text": [
            "2/2 [==============================] - 1s 151ms/step - loss: 0.5529 - accuracy: 0.7381\n",
            "[0.5528926849365234, 0.738095223903656]\n"
          ]
        }
      ]
    }
  ]
}